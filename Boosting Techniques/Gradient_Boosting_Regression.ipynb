{
 "cells": [
  {
   "cell_type": "markdown",
   "metadata": {},
   "source": [
    "# Gradient Boosting Regression"
   ]
  },
  {
   "cell_type": "code",
   "execution_count": 2,
   "metadata": {
    "colab": {
     "base_uri": "https://localhost:8080/"
    },
    "executionInfo": {
     "elapsed": 1130,
     "status": "ok",
     "timestamp": 1629211497863,
     "user": {
      "displayName": "Uvaish Geelani",
      "photoUrl": "https://lh3.googleusercontent.com/a-/AOh14GjOM91FNPjWzjDRIY_hNAXM4WgKqeghWrc0gO0aNA=s64",
      "userId": "15853636562940562822"
     },
     "user_tz": -330
    },
    "id": "55b6188b",
    "outputId": "9d36df5d-e8d0-411e-c17e-de867bc23f45"
   },
   "outputs": [
    {
     "name": "stderr",
     "output_type": "stream",
     "text": [
      "/usr/local/lib/python3.7/dist-packages/statsmodels/tools/_testing.py:19: FutureWarning: pandas.util.testing is deprecated. Use the functions in the public API at pandas.testing instead.\n",
      "  import pandas.util.testing as tm\n"
     ]
    }
   ],
   "source": [
    "import pandas as pd\n",
    "import matplotlib.pyplot as plt \n",
    "import numpy as np \n",
    "from sklearn import datasets, linear_model, metrics \n",
    "from sklearn.metrics import mean_squared_error, r2_score\n",
    "from sklearn.model_selection import train_test_split \n",
    "import seaborn as sns\n",
    "import statsmodels\n",
    "import statsmodels.api as sm"
   ]
  },
  {
   "cell_type": "code",
   "execution_count": 2,
   "metadata": {
    "colab": {
     "base_uri": "https://localhost:8080/",
     "height": 39,
     "resources": {
      "http://localhost:8080/nbextensions/google.colab/files.js": {
       "data": "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",
       "headers": [
        [
         "content-type",
         "application/javascript"
        ]
       ],
       "ok": true,
       "status": 200,
       "status_text": ""
      }
     }
    },
    "executionInfo": {
     "elapsed": 40801,
     "status": "ok",
     "timestamp": 1629211342055,
     "user": {
      "displayName": "Uvaish Geelani",
      "photoUrl": "https://lh3.googleusercontent.com/a-/AOh14GjOM91FNPjWzjDRIY_hNAXM4WgKqeghWrc0gO0aNA=s64",
      "userId": "15853636562940562822"
     },
     "user_tz": -330
    },
    "id": "yu2KbRUDjsHT",
    "outputId": "2397b16d-2e5c-48ed-ee95-e1db51e6d5f3"
   },
   "outputs": [
    {
     "data": {
      "text/html": [
       "\n",
       "     <input type=\"file\" id=\"files-52d35493-4ae8-4725-9e0a-f15652412817\" name=\"files[]\" multiple disabled\n",
       "        style=\"border:none\" />\n",
       "     <output id=\"result-52d35493-4ae8-4725-9e0a-f15652412817\">\n",
       "      Upload widget is only available when the cell has been executed in the\n",
       "      current browser session. Please rerun this cell to enable.\n",
       "      </output>\n",
       "      <script src=\"/nbextensions/google.colab/files.js\"></script> "
      ],
      "text/plain": [
       "<IPython.core.display.HTML object>"
      ]
     },
     "metadata": {
      "tags": []
     },
     "output_type": "display_data"
    }
   ],
   "source": [
    "from google.colab import files\n",
    "uploaded = files.upload()"
   ]
  },
  {
   "cell_type": "code",
   "execution_count": 3,
   "metadata": {
    "colab": {
     "base_uri": "https://localhost:8080/",
     "height": 195
    },
    "executionInfo": {
     "elapsed": 1269,
     "status": "ok",
     "timestamp": 1629211528935,
     "user": {
      "displayName": "Uvaish Geelani",
      "photoUrl": "https://lh3.googleusercontent.com/a-/AOh14GjOM91FNPjWzjDRIY_hNAXM4WgKqeghWrc0gO0aNA=s64",
      "userId": "15853636562940562822"
     },
     "user_tz": -330
    },
    "id": "a0d89e3a",
    "outputId": "7a5ab375-e121-48b2-9f00-23750ba8bfe2"
   },
   "outputs": [
    {
     "data": {
      "text/html": [
       "<div>\n",
       "<style scoped>\n",
       "    .dataframe tbody tr th:only-of-type {\n",
       "        vertical-align: middle;\n",
       "    }\n",
       "\n",
       "    .dataframe tbody tr th {\n",
       "        vertical-align: top;\n",
       "    }\n",
       "\n",
       "    .dataframe thead th {\n",
       "        text-align: right;\n",
       "    }\n",
       "</style>\n",
       "<table border=\"1\" class=\"dataframe\">\n",
       "  <thead>\n",
       "    <tr style=\"text-align: right;\">\n",
       "      <th></th>\n",
       "      <th>Airline</th>\n",
       "      <th>Date_of_Journey</th>\n",
       "      <th>Source</th>\n",
       "      <th>Destination</th>\n",
       "      <th>Route</th>\n",
       "      <th>Dep_Time</th>\n",
       "      <th>Arrival_Time</th>\n",
       "      <th>Duration</th>\n",
       "      <th>Total_Stops</th>\n",
       "      <th>Additional_Info</th>\n",
       "      <th>Price</th>\n",
       "    </tr>\n",
       "  </thead>\n",
       "  <tbody>\n",
       "    <tr>\n",
       "      <th>0</th>\n",
       "      <td>IndiGo</td>\n",
       "      <td>24/03/2019</td>\n",
       "      <td>Banglore</td>\n",
       "      <td>New Delhi</td>\n",
       "      <td>BLR → DEL</td>\n",
       "      <td>22:20</td>\n",
       "      <td>01:10 22 Mar</td>\n",
       "      <td>2h 50m</td>\n",
       "      <td>non-stop</td>\n",
       "      <td>No info</td>\n",
       "      <td>3897</td>\n",
       "    </tr>\n",
       "    <tr>\n",
       "      <th>1</th>\n",
       "      <td>Air India</td>\n",
       "      <td>1/05/2019</td>\n",
       "      <td>Kolkata</td>\n",
       "      <td>Banglore</td>\n",
       "      <td>CCU → IXR → BBI → BLR</td>\n",
       "      <td>05:50</td>\n",
       "      <td>13:15</td>\n",
       "      <td>7h 25m</td>\n",
       "      <td>2 stops</td>\n",
       "      <td>No info</td>\n",
       "      <td>7662</td>\n",
       "    </tr>\n",
       "    <tr>\n",
       "      <th>2</th>\n",
       "      <td>Jet Airways</td>\n",
       "      <td>9/06/2019</td>\n",
       "      <td>Delhi</td>\n",
       "      <td>Cochin</td>\n",
       "      <td>DEL → LKO → BOM → COK</td>\n",
       "      <td>09:25</td>\n",
       "      <td>04:25 10 Jun</td>\n",
       "      <td>19h</td>\n",
       "      <td>2 stops</td>\n",
       "      <td>No info</td>\n",
       "      <td>13882</td>\n",
       "    </tr>\n",
       "    <tr>\n",
       "      <th>3</th>\n",
       "      <td>IndiGo</td>\n",
       "      <td>12/05/2019</td>\n",
       "      <td>Kolkata</td>\n",
       "      <td>Banglore</td>\n",
       "      <td>CCU → NAG → BLR</td>\n",
       "      <td>18:05</td>\n",
       "      <td>23:30</td>\n",
       "      <td>5h 25m</td>\n",
       "      <td>1 stop</td>\n",
       "      <td>No info</td>\n",
       "      <td>6218</td>\n",
       "    </tr>\n",
       "    <tr>\n",
       "      <th>4</th>\n",
       "      <td>IndiGo</td>\n",
       "      <td>01/03/2019</td>\n",
       "      <td>Banglore</td>\n",
       "      <td>New Delhi</td>\n",
       "      <td>BLR → NAG → DEL</td>\n",
       "      <td>16:50</td>\n",
       "      <td>21:35</td>\n",
       "      <td>4h 45m</td>\n",
       "      <td>1 stop</td>\n",
       "      <td>No info</td>\n",
       "      <td>13302</td>\n",
       "    </tr>\n",
       "  </tbody>\n",
       "</table>\n",
       "</div>"
      ],
      "text/plain": [
       "       Airline Date_of_Journey    Source  ... Total_Stops Additional_Info  Price\n",
       "0       IndiGo      24/03/2019  Banglore  ...    non-stop         No info   3897\n",
       "1    Air India       1/05/2019   Kolkata  ...     2 stops         No info   7662\n",
       "2  Jet Airways       9/06/2019     Delhi  ...     2 stops         No info  13882\n",
       "3       IndiGo      12/05/2019   Kolkata  ...      1 stop         No info   6218\n",
       "4       IndiGo      01/03/2019  Banglore  ...      1 stop         No info  13302\n",
       "\n",
       "[5 rows x 11 columns]"
      ]
     },
     "execution_count": 3,
     "metadata": {
      "tags": []
     },
     "output_type": "execute_result"
    }
   ],
   "source": [
    "df=pd.read_excel('Data_Train.xlsx')\n",
    "df.head()"
   ]
  },
  {
   "cell_type": "markdown",
   "metadata": {
    "id": "ce193793"
   },
   "source": [
    "# Checking Unique Values"
   ]
  },
  {
   "cell_type": "code",
   "execution_count": 4,
   "metadata": {
    "colab": {
     "base_uri": "https://localhost:8080/"
    },
    "executionInfo": {
     "elapsed": 49,
     "status": "ok",
     "timestamp": 1629211531969,
     "user": {
      "displayName": "Uvaish Geelani",
      "photoUrl": "https://lh3.googleusercontent.com/a-/AOh14GjOM91FNPjWzjDRIY_hNAXM4WgKqeghWrc0gO0aNA=s64",
      "userId": "15853636562940562822"
     },
     "user_tz": -330
    },
    "id": "f9f0666b",
    "outputId": "049bc336-7434-4c85-d8df-cf90fa27e2e1"
   },
   "outputs": [
    {
     "data": {
      "text/plain": [
       "array(['IndiGo', 'Air India', 'Jet Airways', 'SpiceJet',\n",
       "       'Multiple carriers', 'GoAir', 'Vistara', 'Air Asia',\n",
       "       'Vistara Premium economy', 'Jet Airways Business',\n",
       "       'Multiple carriers Premium economy', 'Trujet'], dtype=object)"
      ]
     },
     "execution_count": 4,
     "metadata": {
      "tags": []
     },
     "output_type": "execute_result"
    }
   ],
   "source": [
    "df.Airline.unique()"
   ]
  },
  {
   "cell_type": "code",
   "execution_count": 5,
   "metadata": {
    "colab": {
     "base_uri": "https://localhost:8080/"
    },
    "executionInfo": {
     "elapsed": 12,
     "status": "ok",
     "timestamp": 1629211531970,
     "user": {
      "displayName": "Uvaish Geelani",
      "photoUrl": "https://lh3.googleusercontent.com/a-/AOh14GjOM91FNPjWzjDRIY_hNAXM4WgKqeghWrc0gO0aNA=s64",
      "userId": "15853636562940562822"
     },
     "user_tz": -330
    },
    "id": "4071a4dd",
    "outputId": "2caa1f2d-166d-49d6-a4da-91194484b5ee"
   },
   "outputs": [
    {
     "data": {
      "text/plain": [
       "array(['Banglore', 'Kolkata', 'Delhi', 'Chennai', 'Mumbai'], dtype=object)"
      ]
     },
     "execution_count": 5,
     "metadata": {
      "tags": []
     },
     "output_type": "execute_result"
    }
   ],
   "source": [
    "df.Source.unique()"
   ]
  },
  {
   "cell_type": "code",
   "execution_count": 6,
   "metadata": {
    "colab": {
     "base_uri": "https://localhost:8080/"
    },
    "executionInfo": {
     "elapsed": 10,
     "status": "ok",
     "timestamp": 1629211532675,
     "user": {
      "displayName": "Uvaish Geelani",
      "photoUrl": "https://lh3.googleusercontent.com/a-/AOh14GjOM91FNPjWzjDRIY_hNAXM4WgKqeghWrc0gO0aNA=s64",
      "userId": "15853636562940562822"
     },
     "user_tz": -330
    },
    "id": "692a5bbd",
    "outputId": "86ca2572-2b28-4b65-964e-41e2c789bded"
   },
   "outputs": [
    {
     "data": {
      "text/plain": [
       "array(['New Delhi', 'Banglore', 'Cochin', 'Kolkata', 'Delhi', 'Hyderabad'],\n",
       "      dtype=object)"
      ]
     },
     "execution_count": 6,
     "metadata": {
      "tags": []
     },
     "output_type": "execute_result"
    }
   ],
   "source": [
    "df.Destination.unique()"
   ]
  },
  {
   "cell_type": "code",
   "execution_count": 7,
   "metadata": {
    "colab": {
     "base_uri": "https://localhost:8080/"
    },
    "executionInfo": {
     "elapsed": 9,
     "status": "ok",
     "timestamp": 1629211532676,
     "user": {
      "displayName": "Uvaish Geelani",
      "photoUrl": "https://lh3.googleusercontent.com/a-/AOh14GjOM91FNPjWzjDRIY_hNAXM4WgKqeghWrc0gO0aNA=s64",
      "userId": "15853636562940562822"
     },
     "user_tz": -330
    },
    "id": "516dac46",
    "outputId": "11cb7060-cd0f-4367-fb4c-4aea98e9808a"
   },
   "outputs": [
    {
     "data": {
      "text/plain": [
       "array(['No info', 'In-flight meal not included',\n",
       "       'No check-in baggage included', '1 Short layover', 'No Info',\n",
       "       '1 Long layover', 'Change airports', 'Business class',\n",
       "       'Red-eye flight', '2 Long layover'], dtype=object)"
      ]
     },
     "execution_count": 7,
     "metadata": {
      "tags": []
     },
     "output_type": "execute_result"
    }
   ],
   "source": [
    "df.Additional_Info.unique()"
   ]
  },
  {
   "cell_type": "markdown",
   "metadata": {
    "id": "113833e8"
   },
   "source": [
    "# Data Cleaning"
   ]
  },
  {
   "cell_type": "code",
   "execution_count": 8,
   "metadata": {
    "executionInfo": {
     "elapsed": 7,
     "status": "ok",
     "timestamp": 1629211533263,
     "user": {
      "displayName": "Uvaish Geelani",
      "photoUrl": "https://lh3.googleusercontent.com/a-/AOh14GjOM91FNPjWzjDRIY_hNAXM4WgKqeghWrc0gO0aNA=s64",
      "userId": "15853636562940562822"
     },
     "user_tz": -330
    },
    "id": "f3daa356"
   },
   "outputs": [],
   "source": [
    "df.Additional_Info=df.Additional_Info.replace('No Info','No info')"
   ]
  },
  {
   "cell_type": "code",
   "execution_count": 9,
   "metadata": {
    "executionInfo": {
     "elapsed": 7,
     "status": "ok",
     "timestamp": 1629211533264,
     "user": {
      "displayName": "Uvaish Geelani",
      "photoUrl": "https://lh3.googleusercontent.com/a-/AOh14GjOM91FNPjWzjDRIY_hNAXM4WgKqeghWrc0gO0aNA=s64",
      "userId": "15853636562940562822"
     },
     "user_tz": -330
    },
    "id": "617cd3a6"
   },
   "outputs": [],
   "source": [
    "df.drop(columns=['Route'],inplace=True)"
   ]
  },
  {
   "cell_type": "code",
   "execution_count": 10,
   "metadata": {
    "executionInfo": {
     "elapsed": 7,
     "status": "ok",
     "timestamp": 1629211533264,
     "user": {
      "displayName": "Uvaish Geelani",
      "photoUrl": "https://lh3.googleusercontent.com/a-/AOh14GjOM91FNPjWzjDRIY_hNAXM4WgKqeghWrc0gO0aNA=s64",
      "userId": "15853636562940562822"
     },
     "user_tz": -330
    },
    "id": "bf19c4bf"
   },
   "outputs": [],
   "source": [
    "df.drop(columns=['Dep_Time','Arrival_Time'],inplace=True)"
   ]
  },
  {
   "cell_type": "code",
   "execution_count": 11,
   "metadata": {
    "executionInfo": {
     "elapsed": 6,
     "status": "ok",
     "timestamp": 1629211533265,
     "user": {
      "displayName": "Uvaish Geelani",
      "photoUrl": "https://lh3.googleusercontent.com/a-/AOh14GjOM91FNPjWzjDRIY_hNAXM4WgKqeghWrc0gO0aNA=s64",
      "userId": "15853636562940562822"
     },
     "user_tz": -330
    },
    "id": "8d87e30a"
   },
   "outputs": [],
   "source": [
    "#df.drop(columns=['Date_of_Journey'],inplace=True)"
   ]
  },
  {
   "cell_type": "code",
   "execution_count": 12,
   "metadata": {
    "executionInfo": {
     "elapsed": 5,
     "status": "ok",
     "timestamp": 1629211533896,
     "user": {
      "displayName": "Uvaish Geelani",
      "photoUrl": "https://lh3.googleusercontent.com/a-/AOh14GjOM91FNPjWzjDRIY_hNAXM4WgKqeghWrc0gO0aNA=s64",
      "userId": "15853636562940562822"
     },
     "user_tz": -330
    },
    "id": "129816de"
   },
   "outputs": [],
   "source": [
    "df.Destination.replace('New Delhi','Delhi',inplace=True)"
   ]
  },
  {
   "cell_type": "code",
   "execution_count": 13,
   "metadata": {
    "executionInfo": {
     "elapsed": 5,
     "status": "ok",
     "timestamp": 1629211533897,
     "user": {
      "displayName": "Uvaish Geelani",
      "photoUrl": "https://lh3.googleusercontent.com/a-/AOh14GjOM91FNPjWzjDRIY_hNAXM4WgKqeghWrc0gO0aNA=s64",
      "userId": "15853636562940562822"
     },
     "user_tz": -330
    },
    "id": "d1829cf1"
   },
   "outputs": [],
   "source": [
    "df.replace('Delhi',1,inplace=True)\n",
    "df.replace('Banglore',2,inplace=True)\n",
    "df.replace('Cochin',3,inplace=True)\n",
    "df.replace('Kolkata',4,inplace=True)\n",
    "df.replace('Hyderabad',5,inplace=True)\n",
    "df.replace('Chennai',6,inplace=True)\n",
    "df.replace('Hyderabad',7,inplace=True)"
   ]
  },
  {
   "cell_type": "code",
   "execution_count": 14,
   "metadata": {
    "executionInfo": {
     "elapsed": 5,
     "status": "ok",
     "timestamp": 1629211533898,
     "user": {
      "displayName": "Uvaish Geelani",
      "photoUrl": "https://lh3.googleusercontent.com/a-/AOh14GjOM91FNPjWzjDRIY_hNAXM4WgKqeghWrc0gO0aNA=s64",
      "userId": "15853636562940562822"
     },
     "user_tz": -330
    },
    "id": "339fb3b5"
   },
   "outputs": [],
   "source": [
    "df.replace('Mumbai',8,inplace=True)"
   ]
  },
  {
   "cell_type": "code",
   "execution_count": 15,
   "metadata": {
    "colab": {
     "base_uri": "https://localhost:8080/"
    },
    "executionInfo": {
     "elapsed": 14,
     "status": "ok",
     "timestamp": 1629211534610,
     "user": {
      "displayName": "Uvaish Geelani",
      "photoUrl": "https://lh3.googleusercontent.com/a-/AOh14GjOM91FNPjWzjDRIY_hNAXM4WgKqeghWrc0gO0aNA=s64",
      "userId": "15853636562940562822"
     },
     "user_tz": -330
    },
    "id": "7ca78c33",
    "outputId": "fd50bdb7-b5c9-47a0-e897-776bde11b1a9"
   },
   "outputs": [
    {
     "data": {
      "text/plain": [
       "array([1, 2, 3, 4, 5])"
      ]
     },
     "execution_count": 15,
     "metadata": {
      "tags": []
     },
     "output_type": "execute_result"
    }
   ],
   "source": [
    "df.Destination.unique()"
   ]
  },
  {
   "cell_type": "code",
   "execution_count": 16,
   "metadata": {
    "colab": {
     "base_uri": "https://localhost:8080/"
    },
    "executionInfo": {
     "elapsed": 13,
     "status": "ok",
     "timestamp": 1629211534611,
     "user": {
      "displayName": "Uvaish Geelani",
      "photoUrl": "https://lh3.googleusercontent.com/a-/AOh14GjOM91FNPjWzjDRIY_hNAXM4WgKqeghWrc0gO0aNA=s64",
      "userId": "15853636562940562822"
     },
     "user_tz": -330
    },
    "id": "869f782a",
    "outputId": "08ee3491-3f47-4ecf-d47f-457a6cca4568"
   },
   "outputs": [
    {
     "data": {
      "text/plain": [
       "array([2, 4, 1, 6, 8])"
      ]
     },
     "execution_count": 16,
     "metadata": {
      "tags": []
     },
     "output_type": "execute_result"
    }
   ],
   "source": [
    "df.Source.unique()"
   ]
  },
  {
   "cell_type": "code",
   "execution_count": 17,
   "metadata": {
    "colab": {
     "base_uri": "https://localhost:8080/"
    },
    "executionInfo": {
     "elapsed": 9,
     "status": "ok",
     "timestamp": 1629211534612,
     "user": {
      "displayName": "Uvaish Geelani",
      "photoUrl": "https://lh3.googleusercontent.com/a-/AOh14GjOM91FNPjWzjDRIY_hNAXM4WgKqeghWrc0gO0aNA=s64",
      "userId": "15853636562940562822"
     },
     "user_tz": -330
    },
    "id": "d6597ca2",
    "outputId": "282a0442-efb3-4cc9-e3d8-9f97c1b7fa65"
   },
   "outputs": [
    {
     "data": {
      "text/plain": [
       "1"
      ]
     },
     "execution_count": 17,
     "metadata": {
      "tags": []
     },
     "output_type": "execute_result"
    }
   ],
   "source": [
    "df.Total_Stops.isnull().sum()"
   ]
  },
  {
   "cell_type": "code",
   "execution_count": 18,
   "metadata": {
    "executionInfo": {
     "elapsed": 5,
     "status": "ok",
     "timestamp": 1629211535236,
     "user": {
      "displayName": "Uvaish Geelani",
      "photoUrl": "https://lh3.googleusercontent.com/a-/AOh14GjOM91FNPjWzjDRIY_hNAXM4WgKqeghWrc0gO0aNA=s64",
      "userId": "15853636562940562822"
     },
     "user_tz": -330
    },
    "id": "6e386874"
   },
   "outputs": [],
   "source": [
    "df.dropna(inplace=True)"
   ]
  },
  {
   "cell_type": "code",
   "execution_count": 19,
   "metadata": {
    "executionInfo": {
     "elapsed": 5,
     "status": "ok",
     "timestamp": 1629211535237,
     "user": {
      "displayName": "Uvaish Geelani",
      "photoUrl": "https://lh3.googleusercontent.com/a-/AOh14GjOM91FNPjWzjDRIY_hNAXM4WgKqeghWrc0gO0aNA=s64",
      "userId": "15853636562940562822"
     },
     "user_tz": -330
    },
    "id": "82152e39"
   },
   "outputs": [],
   "source": [
    "df.Total_Stops.replace('non-stop','0 stop',inplace=True)"
   ]
  },
  {
   "cell_type": "code",
   "execution_count": 20,
   "metadata": {
    "executionInfo": {
     "elapsed": 3,
     "status": "ok",
     "timestamp": 1629211535860,
     "user": {
      "displayName": "Uvaish Geelani",
      "photoUrl": "https://lh3.googleusercontent.com/a-/AOh14GjOM91FNPjWzjDRIY_hNAXM4WgKqeghWrc0gO0aNA=s64",
      "userId": "15853636562940562822"
     },
     "user_tz": -330
    },
    "id": "7035897f"
   },
   "outputs": [],
   "source": [
    "df.Total_Stops=df.Total_Stops.apply(lambda x: int(x.split(' ')[0]))"
   ]
  },
  {
   "cell_type": "markdown",
   "metadata": {
    "id": "2a581f70"
   },
   "source": [
    "# Creating Dummy Variables"
   ]
  },
  {
   "cell_type": "code",
   "execution_count": 21,
   "metadata": {
    "executionInfo": {
     "elapsed": 8,
     "status": "ok",
     "timestamp": 1629211536280,
     "user": {
      "displayName": "Uvaish Geelani",
      "photoUrl": "https://lh3.googleusercontent.com/a-/AOh14GjOM91FNPjWzjDRIY_hNAXM4WgKqeghWrc0gO0aNA=s64",
      "userId": "15853636562940562822"
     },
     "user_tz": -330
    },
    "id": "b57e4f93"
   },
   "outputs": [],
   "source": [
    "df = pd.get_dummies(df, columns=['Total_Stops'],drop_first=True)\n",
    "#TS_dummy=pd.get_dummies(df.Total_Stops,prefix=\"Total_Stops\")\n",
    "#TS_dummy"
   ]
  },
  {
   "cell_type": "code",
   "execution_count": 22,
   "metadata": {
    "executionInfo": {
     "elapsed": 9,
     "status": "ok",
     "timestamp": 1629211536783,
     "user": {
      "displayName": "Uvaish Geelani",
      "photoUrl": "https://lh3.googleusercontent.com/a-/AOh14GjOM91FNPjWzjDRIY_hNAXM4WgKqeghWrc0gO0aNA=s64",
      "userId": "15853636562940562822"
     },
     "user_tz": -330
    },
    "id": "52948d1e"
   },
   "outputs": [],
   "source": [
    "df = pd.get_dummies(df, columns=['Source'],drop_first=True)\n",
    "df = pd.get_dummies(df, columns=['Destination'],drop_first=True)"
   ]
  },
  {
   "cell_type": "code",
   "execution_count": 23,
   "metadata": {
    "executionInfo": {
     "elapsed": 9,
     "status": "ok",
     "timestamp": 1629211536785,
     "user": {
      "displayName": "Uvaish Geelani",
      "photoUrl": "https://lh3.googleusercontent.com/a-/AOh14GjOM91FNPjWzjDRIY_hNAXM4WgKqeghWrc0gO0aNA=s64",
      "userId": "15853636562940562822"
     },
     "user_tz": -330
    },
    "id": "c90dbaf7"
   },
   "outputs": [],
   "source": [
    "df = pd.get_dummies(df, columns=['Additional_Info'],drop_first=True)\n"
   ]
  },
  {
   "cell_type": "code",
   "execution_count": 24,
   "metadata": {
    "executionInfo": {
     "elapsed": 10,
     "status": "ok",
     "timestamp": 1629211538466,
     "user": {
      "displayName": "Uvaish Geelani",
      "photoUrl": "https://lh3.googleusercontent.com/a-/AOh14GjOM91FNPjWzjDRIY_hNAXM4WgKqeghWrc0gO0aNA=s64",
      "userId": "15853636562940562822"
     },
     "user_tz": -330
    },
    "id": "f3609ee4"
   },
   "outputs": [],
   "source": [
    "h = df['Duration'].str.extract('(\\d+)h', expand=False).astype(float) * 60\n",
    "m = df['Duration'].str.extract('(\\d+)m', expand=False).astype(float)\n",
    "df['Duration'] = h.add(m, fill_value=0).astype(int)"
   ]
  },
  {
   "cell_type": "code",
   "execution_count": 25,
   "metadata": {
    "executionInfo": {
     "elapsed": 7,
     "status": "ok",
     "timestamp": 1629211538467,
     "user": {
      "displayName": "Uvaish Geelani",
      "photoUrl": "https://lh3.googleusercontent.com/a-/AOh14GjOM91FNPjWzjDRIY_hNAXM4WgKqeghWrc0gO0aNA=s64",
      "userId": "15853636562940562822"
     },
     "user_tz": -330
    },
    "id": "6d3bea3d"
   },
   "outputs": [],
   "source": [
    "df.Duration=df.Duration.astype(float)"
   ]
  },
  {
   "cell_type": "code",
   "execution_count": 26,
   "metadata": {
    "executionInfo": {
     "elapsed": 8,
     "status": "ok",
     "timestamp": 1629211538469,
     "user": {
      "displayName": "Uvaish Geelani",
      "photoUrl": "https://lh3.googleusercontent.com/a-/AOh14GjOM91FNPjWzjDRIY_hNAXM4WgKqeghWrc0gO0aNA=s64",
      "userId": "15853636562940562822"
     },
     "user_tz": -330
    },
    "id": "4e948caf"
   },
   "outputs": [],
   "source": [
    "df.Price=df.Price.astype(float)"
   ]
  },
  {
   "cell_type": "code",
   "execution_count": 27,
   "metadata": {
    "colab": {
     "base_uri": "https://localhost:8080/"
    },
    "executionInfo": {
     "elapsed": 519,
     "status": "ok",
     "timestamp": 1629211540572,
     "user": {
      "displayName": "Uvaish Geelani",
      "photoUrl": "https://lh3.googleusercontent.com/a-/AOh14GjOM91FNPjWzjDRIY_hNAXM4WgKqeghWrc0gO0aNA=s64",
      "userId": "15853636562940562822"
     },
     "user_tz": -330
    },
    "id": "d480fe35",
    "outputId": "d98db414-12e0-4274-ff5e-c2df8e00607b"
   },
   "outputs": [
    {
     "name": "stdout",
     "output_type": "stream",
     "text": [
      "<class 'pandas.core.frame.DataFrame'>\n",
      "Int64Index: 10682 entries, 0 to 10682\n",
      "Data columns (total 24 columns):\n",
      " #   Column                                        Non-Null Count  Dtype  \n",
      "---  ------                                        --------------  -----  \n",
      " 0   Airline                                       10682 non-null  object \n",
      " 1   Date_of_Journey                               10682 non-null  object \n",
      " 2   Duration                                      10682 non-null  float64\n",
      " 3   Price                                         10682 non-null  float64\n",
      " 4   Total_Stops_1                                 10682 non-null  uint8  \n",
      " 5   Total_Stops_2                                 10682 non-null  uint8  \n",
      " 6   Total_Stops_3                                 10682 non-null  uint8  \n",
      " 7   Total_Stops_4                                 10682 non-null  uint8  \n",
      " 8   Source_2                                      10682 non-null  uint8  \n",
      " 9   Source_4                                      10682 non-null  uint8  \n",
      " 10  Source_6                                      10682 non-null  uint8  \n",
      " 11  Source_8                                      10682 non-null  uint8  \n",
      " 12  Destination_2                                 10682 non-null  uint8  \n",
      " 13  Destination_3                                 10682 non-null  uint8  \n",
      " 14  Destination_4                                 10682 non-null  uint8  \n",
      " 15  Destination_5                                 10682 non-null  uint8  \n",
      " 16  Additional_Info_1 Short layover               10682 non-null  uint8  \n",
      " 17  Additional_Info_2 Long layover                10682 non-null  uint8  \n",
      " 18  Additional_Info_Business class                10682 non-null  uint8  \n",
      " 19  Additional_Info_Change airports               10682 non-null  uint8  \n",
      " 20  Additional_Info_In-flight meal not included   10682 non-null  uint8  \n",
      " 21  Additional_Info_No check-in baggage included  10682 non-null  uint8  \n",
      " 22  Additional_Info_No info                       10682 non-null  uint8  \n",
      " 23  Additional_Info_Red-eye flight                10682 non-null  uint8  \n",
      "dtypes: float64(2), object(2), uint8(20)\n",
      "memory usage: 625.9+ KB\n"
     ]
    }
   ],
   "source": [
    "df.info()"
   ]
  },
  {
   "cell_type": "code",
   "execution_count": 28,
   "metadata": {
    "executionInfo": {
     "elapsed": 6,
     "status": "ok",
     "timestamp": 1629211542112,
     "user": {
      "displayName": "Uvaish Geelani",
      "photoUrl": "https://lh3.googleusercontent.com/a-/AOh14GjOM91FNPjWzjDRIY_hNAXM4WgKqeghWrc0gO0aNA=s64",
      "userId": "15853636562940562822"
     },
     "user_tz": -330
    },
    "id": "15b2b9d6"
   },
   "outputs": [],
   "source": [
    "df.Date_of_Journey=df.Date_of_Journey.astype('datetime64[ns]')"
   ]
  },
  {
   "cell_type": "code",
   "execution_count": 29,
   "metadata": {
    "colab": {
     "base_uri": "https://localhost:8080/",
     "height": 489
    },
    "executionInfo": {
     "elapsed": 14,
     "status": "ok",
     "timestamp": 1629211542787,
     "user": {
      "displayName": "Uvaish Geelani",
      "photoUrl": "https://lh3.googleusercontent.com/a-/AOh14GjOM91FNPjWzjDRIY_hNAXM4WgKqeghWrc0gO0aNA=s64",
      "userId": "15853636562940562822"
     },
     "user_tz": -330
    },
    "id": "610318e9",
    "outputId": "cec3a88a-b6d8-4690-f704-703388302b54"
   },
   "outputs": [
    {
     "data": {
      "text/html": [
       "<div>\n",
       "<style scoped>\n",
       "    .dataframe tbody tr th:only-of-type {\n",
       "        vertical-align: middle;\n",
       "    }\n",
       "\n",
       "    .dataframe tbody tr th {\n",
       "        vertical-align: top;\n",
       "    }\n",
       "\n",
       "    .dataframe thead th {\n",
       "        text-align: right;\n",
       "    }\n",
       "</style>\n",
       "<table border=\"1\" class=\"dataframe\">\n",
       "  <thead>\n",
       "    <tr style=\"text-align: right;\">\n",
       "      <th></th>\n",
       "      <th>Airline</th>\n",
       "      <th>Date_of_Journey</th>\n",
       "      <th>Duration</th>\n",
       "      <th>Price</th>\n",
       "      <th>Total_Stops_1</th>\n",
       "      <th>Total_Stops_2</th>\n",
       "      <th>Total_Stops_3</th>\n",
       "      <th>Total_Stops_4</th>\n",
       "      <th>Source_2</th>\n",
       "      <th>Source_4</th>\n",
       "      <th>Source_6</th>\n",
       "      <th>Source_8</th>\n",
       "      <th>Destination_2</th>\n",
       "      <th>Destination_3</th>\n",
       "      <th>Destination_4</th>\n",
       "      <th>Destination_5</th>\n",
       "      <th>Additional_Info_1 Short layover</th>\n",
       "      <th>Additional_Info_2 Long layover</th>\n",
       "      <th>Additional_Info_Business class</th>\n",
       "      <th>Additional_Info_Change airports</th>\n",
       "      <th>Additional_Info_In-flight meal not included</th>\n",
       "      <th>Additional_Info_No check-in baggage included</th>\n",
       "      <th>Additional_Info_No info</th>\n",
       "      <th>Additional_Info_Red-eye flight</th>\n",
       "    </tr>\n",
       "  </thead>\n",
       "  <tbody>\n",
       "    <tr>\n",
       "      <th>0</th>\n",
       "      <td>IndiGo</td>\n",
       "      <td>2019-03-24</td>\n",
       "      <td>170.0</td>\n",
       "      <td>3897.0</td>\n",
       "      <td>0</td>\n",
       "      <td>0</td>\n",
       "      <td>0</td>\n",
       "      <td>0</td>\n",
       "      <td>1</td>\n",
       "      <td>0</td>\n",
       "      <td>0</td>\n",
       "      <td>0</td>\n",
       "      <td>0</td>\n",
       "      <td>0</td>\n",
       "      <td>0</td>\n",
       "      <td>0</td>\n",
       "      <td>0</td>\n",
       "      <td>0</td>\n",
       "      <td>0</td>\n",
       "      <td>0</td>\n",
       "      <td>0</td>\n",
       "      <td>0</td>\n",
       "      <td>1</td>\n",
       "      <td>0</td>\n",
       "    </tr>\n",
       "    <tr>\n",
       "      <th>1</th>\n",
       "      <td>Air India</td>\n",
       "      <td>2019-01-05</td>\n",
       "      <td>445.0</td>\n",
       "      <td>7662.0</td>\n",
       "      <td>0</td>\n",
       "      <td>1</td>\n",
       "      <td>0</td>\n",
       "      <td>0</td>\n",
       "      <td>0</td>\n",
       "      <td>1</td>\n",
       "      <td>0</td>\n",
       "      <td>0</td>\n",
       "      <td>1</td>\n",
       "      <td>0</td>\n",
       "      <td>0</td>\n",
       "      <td>0</td>\n",
       "      <td>0</td>\n",
       "      <td>0</td>\n",
       "      <td>0</td>\n",
       "      <td>0</td>\n",
       "      <td>0</td>\n",
       "      <td>0</td>\n",
       "      <td>1</td>\n",
       "      <td>0</td>\n",
       "    </tr>\n",
       "    <tr>\n",
       "      <th>2</th>\n",
       "      <td>Jet Airways</td>\n",
       "      <td>2019-09-06</td>\n",
       "      <td>1140.0</td>\n",
       "      <td>13882.0</td>\n",
       "      <td>0</td>\n",
       "      <td>1</td>\n",
       "      <td>0</td>\n",
       "      <td>0</td>\n",
       "      <td>0</td>\n",
       "      <td>0</td>\n",
       "      <td>0</td>\n",
       "      <td>0</td>\n",
       "      <td>0</td>\n",
       "      <td>1</td>\n",
       "      <td>0</td>\n",
       "      <td>0</td>\n",
       "      <td>0</td>\n",
       "      <td>0</td>\n",
       "      <td>0</td>\n",
       "      <td>0</td>\n",
       "      <td>0</td>\n",
       "      <td>0</td>\n",
       "      <td>1</td>\n",
       "      <td>0</td>\n",
       "    </tr>\n",
       "    <tr>\n",
       "      <th>3</th>\n",
       "      <td>IndiGo</td>\n",
       "      <td>2019-12-05</td>\n",
       "      <td>325.0</td>\n",
       "      <td>6218.0</td>\n",
       "      <td>1</td>\n",
       "      <td>0</td>\n",
       "      <td>0</td>\n",
       "      <td>0</td>\n",
       "      <td>0</td>\n",
       "      <td>1</td>\n",
       "      <td>0</td>\n",
       "      <td>0</td>\n",
       "      <td>1</td>\n",
       "      <td>0</td>\n",
       "      <td>0</td>\n",
       "      <td>0</td>\n",
       "      <td>0</td>\n",
       "      <td>0</td>\n",
       "      <td>0</td>\n",
       "      <td>0</td>\n",
       "      <td>0</td>\n",
       "      <td>0</td>\n",
       "      <td>1</td>\n",
       "      <td>0</td>\n",
       "    </tr>\n",
       "    <tr>\n",
       "      <th>4</th>\n",
       "      <td>IndiGo</td>\n",
       "      <td>2019-01-03</td>\n",
       "      <td>285.0</td>\n",
       "      <td>13302.0</td>\n",
       "      <td>1</td>\n",
       "      <td>0</td>\n",
       "      <td>0</td>\n",
       "      <td>0</td>\n",
       "      <td>1</td>\n",
       "      <td>0</td>\n",
       "      <td>0</td>\n",
       "      <td>0</td>\n",
       "      <td>0</td>\n",
       "      <td>0</td>\n",
       "      <td>0</td>\n",
       "      <td>0</td>\n",
       "      <td>0</td>\n",
       "      <td>0</td>\n",
       "      <td>0</td>\n",
       "      <td>0</td>\n",
       "      <td>0</td>\n",
       "      <td>0</td>\n",
       "      <td>1</td>\n",
       "      <td>0</td>\n",
       "    </tr>\n",
       "    <tr>\n",
       "      <th>...</th>\n",
       "      <td>...</td>\n",
       "      <td>...</td>\n",
       "      <td>...</td>\n",
       "      <td>...</td>\n",
       "      <td>...</td>\n",
       "      <td>...</td>\n",
       "      <td>...</td>\n",
       "      <td>...</td>\n",
       "      <td>...</td>\n",
       "      <td>...</td>\n",
       "      <td>...</td>\n",
       "      <td>...</td>\n",
       "      <td>...</td>\n",
       "      <td>...</td>\n",
       "      <td>...</td>\n",
       "      <td>...</td>\n",
       "      <td>...</td>\n",
       "      <td>...</td>\n",
       "      <td>...</td>\n",
       "      <td>...</td>\n",
       "      <td>...</td>\n",
       "      <td>...</td>\n",
       "      <td>...</td>\n",
       "      <td>...</td>\n",
       "    </tr>\n",
       "    <tr>\n",
       "      <th>10678</th>\n",
       "      <td>Air Asia</td>\n",
       "      <td>2019-09-04</td>\n",
       "      <td>150.0</td>\n",
       "      <td>4107.0</td>\n",
       "      <td>0</td>\n",
       "      <td>0</td>\n",
       "      <td>0</td>\n",
       "      <td>0</td>\n",
       "      <td>0</td>\n",
       "      <td>1</td>\n",
       "      <td>0</td>\n",
       "      <td>0</td>\n",
       "      <td>1</td>\n",
       "      <td>0</td>\n",
       "      <td>0</td>\n",
       "      <td>0</td>\n",
       "      <td>0</td>\n",
       "      <td>0</td>\n",
       "      <td>0</td>\n",
       "      <td>0</td>\n",
       "      <td>0</td>\n",
       "      <td>0</td>\n",
       "      <td>1</td>\n",
       "      <td>0</td>\n",
       "    </tr>\n",
       "    <tr>\n",
       "      <th>10679</th>\n",
       "      <td>Air India</td>\n",
       "      <td>2019-04-27</td>\n",
       "      <td>155.0</td>\n",
       "      <td>4145.0</td>\n",
       "      <td>0</td>\n",
       "      <td>0</td>\n",
       "      <td>0</td>\n",
       "      <td>0</td>\n",
       "      <td>0</td>\n",
       "      <td>1</td>\n",
       "      <td>0</td>\n",
       "      <td>0</td>\n",
       "      <td>1</td>\n",
       "      <td>0</td>\n",
       "      <td>0</td>\n",
       "      <td>0</td>\n",
       "      <td>0</td>\n",
       "      <td>0</td>\n",
       "      <td>0</td>\n",
       "      <td>0</td>\n",
       "      <td>0</td>\n",
       "      <td>0</td>\n",
       "      <td>1</td>\n",
       "      <td>0</td>\n",
       "    </tr>\n",
       "    <tr>\n",
       "      <th>10680</th>\n",
       "      <td>Jet Airways</td>\n",
       "      <td>2019-04-27</td>\n",
       "      <td>180.0</td>\n",
       "      <td>7229.0</td>\n",
       "      <td>0</td>\n",
       "      <td>0</td>\n",
       "      <td>0</td>\n",
       "      <td>0</td>\n",
       "      <td>1</td>\n",
       "      <td>0</td>\n",
       "      <td>0</td>\n",
       "      <td>0</td>\n",
       "      <td>0</td>\n",
       "      <td>0</td>\n",
       "      <td>0</td>\n",
       "      <td>0</td>\n",
       "      <td>0</td>\n",
       "      <td>0</td>\n",
       "      <td>0</td>\n",
       "      <td>0</td>\n",
       "      <td>0</td>\n",
       "      <td>0</td>\n",
       "      <td>1</td>\n",
       "      <td>0</td>\n",
       "    </tr>\n",
       "    <tr>\n",
       "      <th>10681</th>\n",
       "      <td>Vistara</td>\n",
       "      <td>2019-01-03</td>\n",
       "      <td>160.0</td>\n",
       "      <td>12648.0</td>\n",
       "      <td>0</td>\n",
       "      <td>0</td>\n",
       "      <td>0</td>\n",
       "      <td>0</td>\n",
       "      <td>1</td>\n",
       "      <td>0</td>\n",
       "      <td>0</td>\n",
       "      <td>0</td>\n",
       "      <td>0</td>\n",
       "      <td>0</td>\n",
       "      <td>0</td>\n",
       "      <td>0</td>\n",
       "      <td>0</td>\n",
       "      <td>0</td>\n",
       "      <td>0</td>\n",
       "      <td>0</td>\n",
       "      <td>0</td>\n",
       "      <td>0</td>\n",
       "      <td>1</td>\n",
       "      <td>0</td>\n",
       "    </tr>\n",
       "    <tr>\n",
       "      <th>10682</th>\n",
       "      <td>Air India</td>\n",
       "      <td>2019-09-05</td>\n",
       "      <td>500.0</td>\n",
       "      <td>11753.0</td>\n",
       "      <td>0</td>\n",
       "      <td>1</td>\n",
       "      <td>0</td>\n",
       "      <td>0</td>\n",
       "      <td>0</td>\n",
       "      <td>0</td>\n",
       "      <td>0</td>\n",
       "      <td>0</td>\n",
       "      <td>0</td>\n",
       "      <td>1</td>\n",
       "      <td>0</td>\n",
       "      <td>0</td>\n",
       "      <td>0</td>\n",
       "      <td>0</td>\n",
       "      <td>0</td>\n",
       "      <td>0</td>\n",
       "      <td>0</td>\n",
       "      <td>0</td>\n",
       "      <td>1</td>\n",
       "      <td>0</td>\n",
       "    </tr>\n",
       "  </tbody>\n",
       "</table>\n",
       "<p>10682 rows × 24 columns</p>\n",
       "</div>"
      ],
      "text/plain": [
       "           Airline  ... Additional_Info_Red-eye flight\n",
       "0           IndiGo  ...                              0\n",
       "1        Air India  ...                              0\n",
       "2      Jet Airways  ...                              0\n",
       "3           IndiGo  ...                              0\n",
       "4           IndiGo  ...                              0\n",
       "...            ...  ...                            ...\n",
       "10678     Air Asia  ...                              0\n",
       "10679    Air India  ...                              0\n",
       "10680  Jet Airways  ...                              0\n",
       "10681      Vistara  ...                              0\n",
       "10682    Air India  ...                              0\n",
       "\n",
       "[10682 rows x 24 columns]"
      ]
     },
     "execution_count": 29,
     "metadata": {
      "tags": []
     },
     "output_type": "execute_result"
    }
   ],
   "source": [
    "df"
   ]
  },
  {
   "cell_type": "code",
   "execution_count": 30,
   "metadata": {
    "colab": {
     "base_uri": "https://localhost:8080/",
     "height": 568
    },
    "executionInfo": {
     "elapsed": 1840,
     "status": "ok",
     "timestamp": 1629211545148,
     "user": {
      "displayName": "Uvaish Geelani",
      "photoUrl": "https://lh3.googleusercontent.com/a-/AOh14GjOM91FNPjWzjDRIY_hNAXM4WgKqeghWrc0gO0aNA=s64",
      "userId": "15853636562940562822"
     },
     "user_tz": -330
    },
    "id": "6982715b",
    "outputId": "e9b15ee3-c152-47dd-d94d-3d00032c9081"
   },
   "outputs": [
    {
     "data": {
      "text/plain": [
       "<matplotlib.axes._subplots.AxesSubplot at 0x7f05f81c4ad0>"
      ]
     },
     "execution_count": 30,
     "metadata": {
      "tags": []
     },
     "output_type": "execute_result"
    },
    {
     "data": {
      "image/png": "[encoded data removed]",
      "text/plain": [
       "<Figure size 1152x648 with 1 Axes>"
      ]
     },
     "metadata": {
      "needs_background": "light",
      "tags": []
     },
     "output_type": "display_data"
    }
   ],
   "source": [
    "plt.figure(figsize= (16,9))\n",
    "sns.regplot(x =\"Duration\", y =\"Price\",data = df)"
   ]
  },
  {
   "cell_type": "code",
   "execution_count": 31,
   "metadata": {
    "executionInfo": {
     "elapsed": 10,
     "status": "ok",
     "timestamp": 1629211545149,
     "user": {
      "displayName": "Uvaish Geelani",
      "photoUrl": "https://lh3.googleusercontent.com/a-/AOh14GjOM91FNPjWzjDRIY_hNAXM4WgKqeghWrc0gO0aNA=s64",
      "userId": "15853636562940562822"
     },
     "user_tz": -330
    },
    "id": "687c9ed7"
   },
   "outputs": [],
   "source": [
    "#plt.figure(figsize= (16,9))\n",
    "#sns.regplot(x =\"Total_Stops\", y =\"Price\",data = df)"
   ]
  },
  {
   "cell_type": "code",
   "execution_count": 32,
   "metadata": {
    "executionInfo": {
     "elapsed": 10,
     "status": "ok",
     "timestamp": 1629211545150,
     "user": {
      "displayName": "Uvaish Geelani",
      "photoUrl": "https://lh3.googleusercontent.com/a-/AOh14GjOM91FNPjWzjDRIY_hNAXM4WgKqeghWrc0gO0aNA=s64",
      "userId": "15853636562940562822"
     },
     "user_tz": -330
    },
    "id": "9cb4a705"
   },
   "outputs": [],
   "source": [
    "#df.Duration.values.reshape(-1,1)\n",
    "#df.Price.values.reshape(-1,1)"
   ]
  },
  {
   "cell_type": "code",
   "execution_count": 33,
   "metadata": {
    "executionInfo": {
     "elapsed": 9,
     "status": "ok",
     "timestamp": 1629211545150,
     "user": {
      "displayName": "Uvaish Geelani",
      "photoUrl": "https://lh3.googleusercontent.com/a-/AOh14GjOM91FNPjWzjDRIY_hNAXM4WgKqeghWrc0gO0aNA=s64",
      "userId": "15853636562940562822"
     },
     "user_tz": -330
    },
    "id": "78641165"
   },
   "outputs": [],
   "source": [
    "#plt.bar(df.Additional_Info,df.Price)\n",
    "#plt.xticks(rotation=90)\n",
    "#plt.show()"
   ]
  },
  {
   "cell_type": "code",
   "execution_count": 34,
   "metadata": {
    "colab": {
     "base_uri": "https://localhost:8080/",
     "height": 942
    },
    "executionInfo": {
     "elapsed": 2682,
     "status": "ok",
     "timestamp": 1629211547823,
     "user": {
      "displayName": "Uvaish Geelani",
      "photoUrl": "https://lh3.googleusercontent.com/a-/AOh14GjOM91FNPjWzjDRIY_hNAXM4WgKqeghWrc0gO0aNA=s64",
      "userId": "15853636562940562822"
     },
     "user_tz": -330
    },
    "id": "4cefdf0e",
    "outputId": "7c5ed6d7-f87d-4d79-d2e5-1b786fa2b03a"
   },
   "outputs": [
    {
     "data": {
      "text/plain": [
       "<matplotlib.axes._subplots.AxesSubplot at 0x7f05f85c3c10>"
      ]
     },
     "execution_count": 34,
     "metadata": {
      "tags": []
     },
     "output_type": "execute_result"
    },
    {
     "data": {
      "image/png": "[encoded data removed]",
      "text/plain": [
       "<Figure size 1440x864 with 2 Axes>"
      ]
     },
     "metadata": {
      "needs_background": "light",
      "tags": []
     },
     "output_type": "display_data"
    }
   ],
   "source": [
    "plt.figure(figsize=(20,12))\n",
    "sns.heatmap(df.corr(),cmap=plt.cm.Reds,annot=True)"
   ]
  },
  {
   "cell_type": "code",
   "execution_count": 35,
   "metadata": {
    "colab": {
     "base_uri": "https://localhost:8080/"
    },
    "executionInfo": {
     "elapsed": 12,
     "status": "ok",
     "timestamp": 1629211547824,
     "user": {
      "displayName": "Uvaish Geelani",
      "photoUrl": "https://lh3.googleusercontent.com/a-/AOh14GjOM91FNPjWzjDRIY_hNAXM4WgKqeghWrc0gO0aNA=s64",
      "userId": "15853636562940562822"
     },
     "user_tz": -330
    },
    "id": "621d2b95",
    "outputId": "b39aaed9-3f98-4d57-f5a6-752e2b175bb1"
   },
   "outputs": [
    {
     "name": "stdout",
     "output_type": "stream",
     "text": [
      "<class 'pandas.core.frame.DataFrame'>\n",
      "Int64Index: 10682 entries, 0 to 10682\n",
      "Data columns (total 24 columns):\n",
      " #   Column                                        Non-Null Count  Dtype         \n",
      "---  ------                                        --------------  -----         \n",
      " 0   Airline                                       10682 non-null  object        \n",
      " 1   Date_of_Journey                               10682 non-null  datetime64[ns]\n",
      " 2   Duration                                      10682 non-null  float64       \n",
      " 3   Price                                         10682 non-null  float64       \n",
      " 4   Total_Stops_1                                 10682 non-null  uint8         \n",
      " 5   Total_Stops_2                                 10682 non-null  uint8         \n",
      " 6   Total_Stops_3                                 10682 non-null  uint8         \n",
      " 7   Total_Stops_4                                 10682 non-null  uint8         \n",
      " 8   Source_2                                      10682 non-null  uint8         \n",
      " 9   Source_4                                      10682 non-null  uint8         \n",
      " 10  Source_6                                      10682 non-null  uint8         \n",
      " 11  Source_8                                      10682 non-null  uint8         \n",
      " 12  Destination_2                                 10682 non-null  uint8         \n",
      " 13  Destination_3                                 10682 non-null  uint8         \n",
      " 14  Destination_4                                 10682 non-null  uint8         \n",
      " 15  Destination_5                                 10682 non-null  uint8         \n",
      " 16  Additional_Info_1 Short layover               10682 non-null  uint8         \n",
      " 17  Additional_Info_2 Long layover                10682 non-null  uint8         \n",
      " 18  Additional_Info_Business class                10682 non-null  uint8         \n",
      " 19  Additional_Info_Change airports               10682 non-null  uint8         \n",
      " 20  Additional_Info_In-flight meal not included   10682 non-null  uint8         \n",
      " 21  Additional_Info_No check-in baggage included  10682 non-null  uint8         \n",
      " 22  Additional_Info_No info                       10682 non-null  uint8         \n",
      " 23  Additional_Info_Red-eye flight                10682 non-null  uint8         \n",
      "dtypes: datetime64[ns](1), float64(2), object(1), uint8(20)\n",
      "memory usage: 625.9+ KB\n"
     ]
    }
   ],
   "source": [
    "df.info()"
   ]
  },
  {
   "cell_type": "markdown",
   "metadata": {
    "id": "c790c3a9"
   },
   "source": [
    "# Feature Selection"
   ]
  },
  {
   "cell_type": "code",
   "execution_count": 36,
   "metadata": {
    "executionInfo": {
     "elapsed": 8,
     "status": "ok",
     "timestamp": 1629211547825,
     "user": {
      "displayName": "Uvaish Geelani",
      "photoUrl": "https://lh3.googleusercontent.com/a-/AOh14GjOM91FNPjWzjDRIY_hNAXM4WgKqeghWrc0gO0aNA=s64",
      "userId": "15853636562940562822"
     },
     "user_tz": -330
    },
    "id": "15c009f9"
   },
   "outputs": [],
   "source": [
    "df = pd.get_dummies(df, columns=['Airline'],drop_first=True)"
   ]
  },
  {
   "cell_type": "code",
   "execution_count": 37,
   "metadata": {
    "colab": {
     "base_uri": "https://localhost:8080/",
     "height": 455
    },
    "executionInfo": {
     "elapsed": 520,
     "status": "ok",
     "timestamp": 1629211548338,
     "user": {
      "displayName": "Uvaish Geelani",
      "photoUrl": "https://lh3.googleusercontent.com/a-/AOh14GjOM91FNPjWzjDRIY_hNAXM4WgKqeghWrc0gO0aNA=s64",
      "userId": "15853636562940562822"
     },
     "user_tz": -330
    },
    "id": "4b8106b1",
    "outputId": "2f41903f-a43d-4de8-ba1c-ebca916d38e8"
   },
   "outputs": [
    {
     "data": {
      "text/html": [
       "<div>\n",
       "<style scoped>\n",
       "    .dataframe tbody tr th:only-of-type {\n",
       "        vertical-align: middle;\n",
       "    }\n",
       "\n",
       "    .dataframe tbody tr th {\n",
       "        vertical-align: top;\n",
       "    }\n",
       "\n",
       "    .dataframe thead th {\n",
       "        text-align: right;\n",
       "    }\n",
       "</style>\n",
       "<table border=\"1\" class=\"dataframe\">\n",
       "  <thead>\n",
       "    <tr style=\"text-align: right;\">\n",
       "      <th></th>\n",
       "      <th>Duration</th>\n",
       "      <th>Total_Stops_1</th>\n",
       "      <th>Total_Stops_2</th>\n",
       "      <th>Total_Stops_3</th>\n",
       "      <th>Total_Stops_4</th>\n",
       "      <th>Source_2</th>\n",
       "      <th>Source_4</th>\n",
       "      <th>Source_6</th>\n",
       "      <th>Source_8</th>\n",
       "      <th>Destination_2</th>\n",
       "      <th>Destination_3</th>\n",
       "      <th>Destination_4</th>\n",
       "      <th>Destination_5</th>\n",
       "      <th>Additional_Info_1 Short layover</th>\n",
       "      <th>Additional_Info_2 Long layover</th>\n",
       "      <th>Additional_Info_Business class</th>\n",
       "      <th>Additional_Info_Change airports</th>\n",
       "      <th>Additional_Info_In-flight meal not included</th>\n",
       "      <th>Additional_Info_No check-in baggage included</th>\n",
       "      <th>Additional_Info_No info</th>\n",
       "      <th>Additional_Info_Red-eye flight</th>\n",
       "      <th>Airline_Air India</th>\n",
       "      <th>Airline_GoAir</th>\n",
       "      <th>Airline_IndiGo</th>\n",
       "      <th>Airline_Jet Airways</th>\n",
       "      <th>Airline_Jet Airways Business</th>\n",
       "      <th>Airline_Multiple carriers</th>\n",
       "      <th>Airline_Multiple carriers Premium economy</th>\n",
       "      <th>Airline_SpiceJet</th>\n",
       "      <th>Airline_Trujet</th>\n",
       "      <th>Airline_Vistara</th>\n",
       "      <th>Airline_Vistara Premium economy</th>\n",
       "    </tr>\n",
       "  </thead>\n",
       "  <tbody>\n",
       "    <tr>\n",
       "      <th>0</th>\n",
       "      <td>170.0</td>\n",
       "      <td>0</td>\n",
       "      <td>0</td>\n",
       "      <td>0</td>\n",
       "      <td>0</td>\n",
       "      <td>1</td>\n",
       "      <td>0</td>\n",
       "      <td>0</td>\n",
       "      <td>0</td>\n",
       "      <td>0</td>\n",
       "      <td>0</td>\n",
       "      <td>0</td>\n",
       "      <td>0</td>\n",
       "      <td>0</td>\n",
       "      <td>0</td>\n",
       "      <td>0</td>\n",
       "      <td>0</td>\n",
       "      <td>0</td>\n",
       "      <td>0</td>\n",
       "      <td>1</td>\n",
       "      <td>0</td>\n",
       "      <td>0</td>\n",
       "      <td>0</td>\n",
       "      <td>1</td>\n",
       "      <td>0</td>\n",
       "      <td>0</td>\n",
       "      <td>0</td>\n",
       "      <td>0</td>\n",
       "      <td>0</td>\n",
       "      <td>0</td>\n",
       "      <td>0</td>\n",
       "      <td>0</td>\n",
       "    </tr>\n",
       "    <tr>\n",
       "      <th>1</th>\n",
       "      <td>445.0</td>\n",
       "      <td>0</td>\n",
       "      <td>1</td>\n",
       "      <td>0</td>\n",
       "      <td>0</td>\n",
       "      <td>0</td>\n",
       "      <td>1</td>\n",
       "      <td>0</td>\n",
       "      <td>0</td>\n",
       "      <td>1</td>\n",
       "      <td>0</td>\n",
       "      <td>0</td>\n",
       "      <td>0</td>\n",
       "      <td>0</td>\n",
       "      <td>0</td>\n",
       "      <td>0</td>\n",
       "      <td>0</td>\n",
       "      <td>0</td>\n",
       "      <td>0</td>\n",
       "      <td>1</td>\n",
       "      <td>0</td>\n",
       "      <td>1</td>\n",
       "      <td>0</td>\n",
       "      <td>0</td>\n",
       "      <td>0</td>\n",
       "      <td>0</td>\n",
       "      <td>0</td>\n",
       "      <td>0</td>\n",
       "      <td>0</td>\n",
       "      <td>0</td>\n",
       "      <td>0</td>\n",
       "      <td>0</td>\n",
       "    </tr>\n",
       "    <tr>\n",
       "      <th>2</th>\n",
       "      <td>1140.0</td>\n",
       "      <td>0</td>\n",
       "      <td>1</td>\n",
       "      <td>0</td>\n",
       "      <td>0</td>\n",
       "      <td>0</td>\n",
       "      <td>0</td>\n",
       "      <td>0</td>\n",
       "      <td>0</td>\n",
       "      <td>0</td>\n",
       "      <td>1</td>\n",
       "      <td>0</td>\n",
       "      <td>0</td>\n",
       "      <td>0</td>\n",
       "      <td>0</td>\n",
       "      <td>0</td>\n",
       "      <td>0</td>\n",
       "      <td>0</td>\n",
       "      <td>0</td>\n",
       "      <td>1</td>\n",
       "      <td>0</td>\n",
       "      <td>0</td>\n",
       "      <td>0</td>\n",
       "      <td>0</td>\n",
       "      <td>1</td>\n",
       "      <td>0</td>\n",
       "      <td>0</td>\n",
       "      <td>0</td>\n",
       "      <td>0</td>\n",
       "      <td>0</td>\n",
       "      <td>0</td>\n",
       "      <td>0</td>\n",
       "    </tr>\n",
       "    <tr>\n",
       "      <th>3</th>\n",
       "      <td>325.0</td>\n",
       "      <td>1</td>\n",
       "      <td>0</td>\n",
       "      <td>0</td>\n",
       "      <td>0</td>\n",
       "      <td>0</td>\n",
       "      <td>1</td>\n",
       "      <td>0</td>\n",
       "      <td>0</td>\n",
       "      <td>1</td>\n",
       "      <td>0</td>\n",
       "      <td>0</td>\n",
       "      <td>0</td>\n",
       "      <td>0</td>\n",
       "      <td>0</td>\n",
       "      <td>0</td>\n",
       "      <td>0</td>\n",
       "      <td>0</td>\n",
       "      <td>0</td>\n",
       "      <td>1</td>\n",
       "      <td>0</td>\n",
       "      <td>0</td>\n",
       "      <td>0</td>\n",
       "      <td>1</td>\n",
       "      <td>0</td>\n",
       "      <td>0</td>\n",
       "      <td>0</td>\n",
       "      <td>0</td>\n",
       "      <td>0</td>\n",
       "      <td>0</td>\n",
       "      <td>0</td>\n",
       "      <td>0</td>\n",
       "    </tr>\n",
       "    <tr>\n",
       "      <th>4</th>\n",
       "      <td>285.0</td>\n",
       "      <td>1</td>\n",
       "      <td>0</td>\n",
       "      <td>0</td>\n",
       "      <td>0</td>\n",
       "      <td>1</td>\n",
       "      <td>0</td>\n",
       "      <td>0</td>\n",
       "      <td>0</td>\n",
       "      <td>0</td>\n",
       "      <td>0</td>\n",
       "      <td>0</td>\n",
       "      <td>0</td>\n",
       "      <td>0</td>\n",
       "      <td>0</td>\n",
       "      <td>0</td>\n",
       "      <td>0</td>\n",
       "      <td>0</td>\n",
       "      <td>0</td>\n",
       "      <td>1</td>\n",
       "      <td>0</td>\n",
       "      <td>0</td>\n",
       "      <td>0</td>\n",
       "      <td>1</td>\n",
       "      <td>0</td>\n",
       "      <td>0</td>\n",
       "      <td>0</td>\n",
       "      <td>0</td>\n",
       "      <td>0</td>\n",
       "      <td>0</td>\n",
       "      <td>0</td>\n",
       "      <td>0</td>\n",
       "    </tr>\n",
       "    <tr>\n",
       "      <th>...</th>\n",
       "      <td>...</td>\n",
       "      <td>...</td>\n",
       "      <td>...</td>\n",
       "      <td>...</td>\n",
       "      <td>...</td>\n",
       "      <td>...</td>\n",
       "      <td>...</td>\n",
       "      <td>...</td>\n",
       "      <td>...</td>\n",
       "      <td>...</td>\n",
       "      <td>...</td>\n",
       "      <td>...</td>\n",
       "      <td>...</td>\n",
       "      <td>...</td>\n",
       "      <td>...</td>\n",
       "      <td>...</td>\n",
       "      <td>...</td>\n",
       "      <td>...</td>\n",
       "      <td>...</td>\n",
       "      <td>...</td>\n",
       "      <td>...</td>\n",
       "      <td>...</td>\n",
       "      <td>...</td>\n",
       "      <td>...</td>\n",
       "      <td>...</td>\n",
       "      <td>...</td>\n",
       "      <td>...</td>\n",
       "      <td>...</td>\n",
       "      <td>...</td>\n",
       "      <td>...</td>\n",
       "      <td>...</td>\n",
       "      <td>...</td>\n",
       "    </tr>\n",
       "    <tr>\n",
       "      <th>10678</th>\n",
       "      <td>150.0</td>\n",
       "      <td>0</td>\n",
       "      <td>0</td>\n",
       "      <td>0</td>\n",
       "      <td>0</td>\n",
       "      <td>0</td>\n",
       "      <td>1</td>\n",
       "      <td>0</td>\n",
       "      <td>0</td>\n",
       "      <td>1</td>\n",
       "      <td>0</td>\n",
       "      <td>0</td>\n",
       "      <td>0</td>\n",
       "      <td>0</td>\n",
       "      <td>0</td>\n",
       "      <td>0</td>\n",
       "      <td>0</td>\n",
       "      <td>0</td>\n",
       "      <td>0</td>\n",
       "      <td>1</td>\n",
       "      <td>0</td>\n",
       "      <td>0</td>\n",
       "      <td>0</td>\n",
       "      <td>0</td>\n",
       "      <td>0</td>\n",
       "      <td>0</td>\n",
       "      <td>0</td>\n",
       "      <td>0</td>\n",
       "      <td>0</td>\n",
       "      <td>0</td>\n",
       "      <td>0</td>\n",
       "      <td>0</td>\n",
       "    </tr>\n",
       "    <tr>\n",
       "      <th>10679</th>\n",
       "      <td>155.0</td>\n",
       "      <td>0</td>\n",
       "      <td>0</td>\n",
       "      <td>0</td>\n",
       "      <td>0</td>\n",
       "      <td>0</td>\n",
       "      <td>1</td>\n",
       "      <td>0</td>\n",
       "      <td>0</td>\n",
       "      <td>1</td>\n",
       "      <td>0</td>\n",
       "      <td>0</td>\n",
       "      <td>0</td>\n",
       "      <td>0</td>\n",
       "      <td>0</td>\n",
       "      <td>0</td>\n",
       "      <td>0</td>\n",
       "      <td>0</td>\n",
       "      <td>0</td>\n",
       "      <td>1</td>\n",
       "      <td>0</td>\n",
       "      <td>1</td>\n",
       "      <td>0</td>\n",
       "      <td>0</td>\n",
       "      <td>0</td>\n",
       "      <td>0</td>\n",
       "      <td>0</td>\n",
       "      <td>0</td>\n",
       "      <td>0</td>\n",
       "      <td>0</td>\n",
       "      <td>0</td>\n",
       "      <td>0</td>\n",
       "    </tr>\n",
       "    <tr>\n",
       "      <th>10680</th>\n",
       "      <td>180.0</td>\n",
       "      <td>0</td>\n",
       "      <td>0</td>\n",
       "      <td>0</td>\n",
       "      <td>0</td>\n",
       "      <td>1</td>\n",
       "      <td>0</td>\n",
       "      <td>0</td>\n",
       "      <td>0</td>\n",
       "      <td>0</td>\n",
       "      <td>0</td>\n",
       "      <td>0</td>\n",
       "      <td>0</td>\n",
       "      <td>0</td>\n",
       "      <td>0</td>\n",
       "      <td>0</td>\n",
       "      <td>0</td>\n",
       "      <td>0</td>\n",
       "      <td>0</td>\n",
       "      <td>1</td>\n",
       "      <td>0</td>\n",
       "      <td>0</td>\n",
       "      <td>0</td>\n",
       "      <td>0</td>\n",
       "      <td>1</td>\n",
       "      <td>0</td>\n",
       "      <td>0</td>\n",
       "      <td>0</td>\n",
       "      <td>0</td>\n",
       "      <td>0</td>\n",
       "      <td>0</td>\n",
       "      <td>0</td>\n",
       "    </tr>\n",
       "    <tr>\n",
       "      <th>10681</th>\n",
       "      <td>160.0</td>\n",
       "      <td>0</td>\n",
       "      <td>0</td>\n",
       "      <td>0</td>\n",
       "      <td>0</td>\n",
       "      <td>1</td>\n",
       "      <td>0</td>\n",
       "      <td>0</td>\n",
       "      <td>0</td>\n",
       "      <td>0</td>\n",
       "      <td>0</td>\n",
       "      <td>0</td>\n",
       "      <td>0</td>\n",
       "      <td>0</td>\n",
       "      <td>0</td>\n",
       "      <td>0</td>\n",
       "      <td>0</td>\n",
       "      <td>0</td>\n",
       "      <td>0</td>\n",
       "      <td>1</td>\n",
       "      <td>0</td>\n",
       "      <td>0</td>\n",
       "      <td>0</td>\n",
       "      <td>0</td>\n",
       "      <td>0</td>\n",
       "      <td>0</td>\n",
       "      <td>0</td>\n",
       "      <td>0</td>\n",
       "      <td>0</td>\n",
       "      <td>0</td>\n",
       "      <td>1</td>\n",
       "      <td>0</td>\n",
       "    </tr>\n",
       "    <tr>\n",
       "      <th>10682</th>\n",
       "      <td>500.0</td>\n",
       "      <td>0</td>\n",
       "      <td>1</td>\n",
       "      <td>0</td>\n",
       "      <td>0</td>\n",
       "      <td>0</td>\n",
       "      <td>0</td>\n",
       "      <td>0</td>\n",
       "      <td>0</td>\n",
       "      <td>0</td>\n",
       "      <td>1</td>\n",
       "      <td>0</td>\n",
       "      <td>0</td>\n",
       "      <td>0</td>\n",
       "      <td>0</td>\n",
       "      <td>0</td>\n",
       "      <td>0</td>\n",
       "      <td>0</td>\n",
       "      <td>0</td>\n",
       "      <td>1</td>\n",
       "      <td>0</td>\n",
       "      <td>1</td>\n",
       "      <td>0</td>\n",
       "      <td>0</td>\n",
       "      <td>0</td>\n",
       "      <td>0</td>\n",
       "      <td>0</td>\n",
       "      <td>0</td>\n",
       "      <td>0</td>\n",
       "      <td>0</td>\n",
       "      <td>0</td>\n",
       "      <td>0</td>\n",
       "    </tr>\n",
       "  </tbody>\n",
       "</table>\n",
       "<p>10682 rows × 32 columns</p>\n",
       "</div>"
      ],
      "text/plain": [
       "       Duration  ...  Airline_Vistara Premium economy\n",
       "0         170.0  ...                                0\n",
       "1         445.0  ...                                0\n",
       "2        1140.0  ...                                0\n",
       "3         325.0  ...                                0\n",
       "4         285.0  ...                                0\n",
       "...         ...  ...                              ...\n",
       "10678     150.0  ...                                0\n",
       "10679     155.0  ...                                0\n",
       "10680     180.0  ...                                0\n",
       "10681     160.0  ...                                0\n",
       "10682     500.0  ...                                0\n",
       "\n",
       "[10682 rows x 32 columns]"
      ]
     },
     "execution_count": 37,
     "metadata": {
      "tags": []
     },
     "output_type": "execute_result"
    }
   ],
   "source": [
    "X=df\n",
    "X = X.drop([\"Price\",\"Date_of_Journey\"],1)\n",
    "X\n",
    "#,19,20,21,22,23,24,25,26,27"
   ]
  },
  {
   "cell_type": "code",
   "execution_count": 38,
   "metadata": {
    "colab": {
     "base_uri": "https://localhost:8080/"
    },
    "executionInfo": {
     "elapsed": 25,
     "status": "ok",
     "timestamp": 1629211548341,
     "user": {
      "displayName": "Uvaish Geelani",
      "photoUrl": "https://lh3.googleusercontent.com/a-/AOh14GjOM91FNPjWzjDRIY_hNAXM4WgKqeghWrc0gO0aNA=s64",
      "userId": "15853636562940562822"
     },
     "user_tz": -330
    },
    "id": "c3d98255",
    "outputId": "1a325031-1b5f-43e9-b41a-806484510f34"
   },
   "outputs": [
    {
     "data": {
      "text/plain": [
       "StandardScaler(copy=True, with_mean=True, with_std=True)"
      ]
     },
     "execution_count": 38,
     "metadata": {
      "tags": []
     },
     "output_type": "execute_result"
    }
   ],
   "source": [
    "from sklearn.preprocessing import StandardScaler\n",
    "scaler = StandardScaler()\n",
    "scaler.fit(X)"
   ]
  },
  {
   "cell_type": "code",
   "execution_count": 39,
   "metadata": {
    "colab": {
     "base_uri": "https://localhost:8080/"
    },
    "executionInfo": {
     "elapsed": 21,
     "status": "ok",
     "timestamp": 1629211548343,
     "user": {
      "displayName": "Uvaish Geelani",
      "photoUrl": "https://lh3.googleusercontent.com/a-/AOh14GjOM91FNPjWzjDRIY_hNAXM4WgKqeghWrc0gO0aNA=s64",
      "userId": "15853636562940562822"
     },
     "user_tz": -330
    },
    "id": "4c812108",
    "outputId": "338516cf-09a6-47f9-b43a-524f543bb014"
   },
   "outputs": [
    {
     "data": {
      "text/plain": [
       "0        8.267962\n",
       "1        8.944028\n",
       "2        9.538348\n",
       "3        8.735204\n",
       "4        9.495670\n",
       "           ...   \n",
       "10678    8.320448\n",
       "10679    8.329658\n",
       "10680    8.885856\n",
       "10681    9.445254\n",
       "10682    9.371864\n",
       "Name: Price, Length: 10682, dtype: float64"
      ]
     },
     "execution_count": 39,
     "metadata": {
      "tags": []
     },
     "output_type": "execute_result"
    }
   ],
   "source": [
    "y = np.log(df.Price)\n",
    "y"
   ]
  },
  {
   "cell_type": "code",
   "execution_count": 40,
   "metadata": {
    "executionInfo": {
     "elapsed": 7,
     "status": "ok",
     "timestamp": 1629211550135,
     "user": {
      "displayName": "Uvaish Geelani",
      "photoUrl": "https://lh3.googleusercontent.com/a-/AOh14GjOM91FNPjWzjDRIY_hNAXM4WgKqeghWrc0gO0aNA=s64",
      "userId": "15853636562940562822"
     },
     "user_tz": -330
    },
    "id": "fdcdc6ba"
   },
   "outputs": [],
   "source": [
    "X_train, X_test, y_train, y_test = train_test_split(X, y, test_size=0.3, random_state=100)"
   ]
  },
  {
   "cell_type": "code",
   "execution_count": 41,
   "metadata": {
    "executionInfo": {
     "elapsed": 3,
     "status": "ok",
     "timestamp": 1629211552031,
     "user": {
      "displayName": "Uvaish Geelani",
      "photoUrl": "https://lh3.googleusercontent.com/a-/AOh14GjOM91FNPjWzjDRIY_hNAXM4WgKqeghWrc0gO0aNA=s64",
      "userId": "15853636562940562822"
     },
     "user_tz": -330
    },
    "id": "75b0203a"
   },
   "outputs": [],
   "source": [
    "from sklearn.ensemble import GradientBoostingRegressor\n",
    "gbr = GradientBoostingRegressor(n_estimators = 200, max_depth = 1, random_state = 1)"
   ]
  },
  {
   "cell_type": "code",
   "execution_count": 42,
   "metadata": {
    "colab": {
     "base_uri": "https://localhost:8080/"
    },
    "executionInfo": {
     "elapsed": 723,
     "status": "ok",
     "timestamp": 1629211555215,
     "user": {
      "displayName": "Uvaish Geelani",
      "photoUrl": "https://lh3.googleusercontent.com/a-/AOh14GjOM91FNPjWzjDRIY_hNAXM4WgKqeghWrc0gO0aNA=s64",
      "userId": "15853636562940562822"
     },
     "user_tz": -330
    },
    "id": "c8a931bf",
    "outputId": "1e4b71dd-e932-46f1-a4d1-a0038cb7a32d"
   },
   "outputs": [
    {
     "data": {
      "text/plain": [
       "GradientBoostingRegressor(alpha=0.9, ccp_alpha=0.0, criterion='friedman_mse',\n",
       "                          init=None, learning_rate=0.1, loss='ls', max_depth=1,\n",
       "                          max_features=None, max_leaf_nodes=None,\n",
       "                          min_impurity_decrease=0.0, min_impurity_split=None,\n",
       "                          min_samples_leaf=1, min_samples_split=2,\n",
       "                          min_weight_fraction_leaf=0.0, n_estimators=200,\n",
       "                          n_iter_no_change=None, presort='deprecated',\n",
       "                          random_state=1, subsample=1.0, tol=0.0001,\n",
       "                          validation_fraction=0.1, verbose=0, warm_start=False)"
      ]
     },
     "execution_count": 42,
     "metadata": {
      "tags": []
     },
     "output_type": "execute_result"
    }
   ],
   "source": [
    "gbr.fit(X_train, y_train)"
   ]
  },
  {
   "cell_type": "code",
   "execution_count": 43,
   "metadata": {
    "colab": {
     "base_uri": "https://localhost:8080/"
    },
    "executionInfo": {
     "elapsed": 10,
     "status": "ok",
     "timestamp": 1629211557246,
     "user": {
      "displayName": "Uvaish Geelani",
      "photoUrl": "https://lh3.googleusercontent.com/a-/AOh14GjOM91FNPjWzjDRIY_hNAXM4WgKqeghWrc0gO0aNA=s64",
      "userId": "15853636562940562822"
     },
     "user_tz": -330
    },
    "id": "21d34784",
    "outputId": "743dc4e1-1efb-4b62-b6f8-431cc9cb7203"
   },
   "outputs": [
    {
     "data": {
      "text/plain": [
       "array([9.17452895, 9.22187912, 9.61660538, ..., 8.9861677 , 9.50264998,\n",
       "       9.22187912])"
      ]
     },
     "execution_count": 43,
     "metadata": {
      "tags": []
     },
     "output_type": "execute_result"
    }
   ],
   "source": [
    "pred_y = gbr.predict(X_test)\n",
    "pred_y"
   ]
  },
  {
   "cell_type": "code",
   "execution_count": 44,
   "metadata": {
    "colab": {
     "base_uri": "https://localhost:8080/"
    },
    "executionInfo": {
     "elapsed": 416,
     "status": "ok",
     "timestamp": 1629211578051,
     "user": {
      "displayName": "Uvaish Geelani",
      "photoUrl": "https://lh3.googleusercontent.com/a-/AOh14GjOM91FNPjWzjDRIY_hNAXM4WgKqeghWrc0gO0aNA=s64",
      "userId": "15853636562940562822"
     },
     "user_tz": -330
    },
    "id": "07839e9c",
    "outputId": "15417c30-4249-474e-e517-c6035a40d6d7"
   },
   "outputs": [
    {
     "data": {
      "text/plain": [
       "0.25527428026207416"
      ]
     },
     "execution_count": 44,
     "metadata": {
      "tags": []
     },
     "output_type": "execute_result"
    }
   ],
   "source": [
    "from sklearn.metrics import mean_squared_error as MSE\n",
    "test_rmse = MSE(y_test, pred_y) ** (1 / 2)\n",
    "test_rmse"
   ]
  },
  {
   "cell_type": "code",
   "execution_count": 45,
   "metadata": {
    "colab": {
     "base_uri": "https://localhost:8080/"
    },
    "executionInfo": {
     "elapsed": 515,
     "status": "ok",
     "timestamp": 1629211581119,
     "user": {
      "displayName": "Uvaish Geelani",
      "photoUrl": "https://lh3.googleusercontent.com/a-/AOh14GjOM91FNPjWzjDRIY_hNAXM4WgKqeghWrc0gO0aNA=s64",
      "userId": "15853636562940562822"
     },
     "user_tz": -330
    },
    "id": "78a0ac14",
    "outputId": "011b2550-e094-4413-d282-a852a1e92870"
   },
   "outputs": [
    {
     "data": {
      "text/plain": [
       "0.7351216443706916"
      ]
     },
     "execution_count": 45,
     "metadata": {
      "tags": []
     },
     "output_type": "execute_result"
    }
   ],
   "source": [
    "gbr.score(X_train, y_train)"
   ]
  },
  {
   "cell_type": "code",
   "execution_count": 46,
   "metadata": {
    "colab": {
     "base_uri": "https://localhost:8080/"
    },
    "executionInfo": {
     "elapsed": 388,
     "status": "ok",
     "timestamp": 1629211585545,
     "user": {
      "displayName": "Uvaish Geelani",
      "photoUrl": "https://lh3.googleusercontent.com/a-/AOh14GjOM91FNPjWzjDRIY_hNAXM4WgKqeghWrc0gO0aNA=s64",
      "userId": "15853636562940562822"
     },
     "user_tz": -330
    },
    "id": "4a7a29e3",
    "outputId": "30f09b5f-eeca-439b-9dbd-2af2e9989252"
   },
   "outputs": [
    {
     "data": {
      "text/plain": [
       "0.7564918273342467"
      ]
     },
     "execution_count": 46,
     "metadata": {
      "tags": []
     },
     "output_type": "execute_result"
    }
   ],
   "source": [
    "gbr.score(X_test, y_test)"
   ]
  },
  {
   "cell_type": "code",
   "execution_count": 47,
   "metadata": {
    "colab": {
     "base_uri": "https://localhost:8080/"
    },
    "executionInfo": {
     "elapsed": 411,
     "status": "ok",
     "timestamp": 1629211588585,
     "user": {
      "displayName": "Uvaish Geelani",
      "photoUrl": "https://lh3.googleusercontent.com/a-/AOh14GjOM91FNPjWzjDRIY_hNAXM4WgKqeghWrc0gO0aNA=s64",
      "userId": "15853636562940562822"
     },
     "user_tz": -330
    },
    "id": "a4f8dce2",
    "outputId": "a90416de-7795-4bfc-cc2b-40013c2c3656"
   },
   "outputs": [
    {
     "data": {
      "text/plain": [
       "0.7564918273342467"
      ]
     },
     "execution_count": 47,
     "metadata": {
      "tags": []
     },
     "output_type": "execute_result"
    }
   ],
   "source": [
    "from sklearn.metrics import r2_score \n",
    "r2_score(y_test, pred_y)"
   ]
  },
  {
   "cell_type": "code",
   "execution_count": 49,
   "metadata": {
    "colab": {
     "base_uri": "https://localhost:8080/"
    },
    "executionInfo": {
     "elapsed": 101554,
     "status": "ok",
     "timestamp": 1629217748123,
     "user": {
      "displayName": "Uvaish Geelani",
      "photoUrl": "https://lh3.googleusercontent.com/a-/AOh14GjOM91FNPjWzjDRIY_hNAXM4WgKqeghWrc0gO0aNA=s64",
      "userId": "15853636562940562822"
     },
     "user_tz": -330
    },
    "id": "f11666df",
    "outputId": "078699e8-6067-470a-f6ed-d91b492e39f3"
   },
   "outputs": [
    {
     "name": "stdout",
     "output_type": "stream",
     "text": [
      "Fitting 3 folds for each of 105 candidates, totalling 315 fits\n"
     ]
    },
    {
     "name": "stderr",
     "output_type": "stream",
     "text": [
      "[Parallel(n_jobs=1)]: Using backend SequentialBackend with 1 concurrent workers.\n",
      "[Parallel(n_jobs=1)]: Done 315 out of 315 | elapsed:  1.7min finished\n"
     ]
    },
    {
     "data": {
      "text/plain": [
       "GridSearchCV(cv=3, error_score=nan,\n",
       "             estimator=GradientBoostingRegressor(alpha=0.9, ccp_alpha=0.0,\n",
       "                                                 criterion='friedman_mse',\n",
       "                                                 init=None, learning_rate=0.1,\n",
       "                                                 loss='ls', max_depth=1,\n",
       "                                                 max_features=None,\n",
       "                                                 max_leaf_nodes=None,\n",
       "                                                 min_impurity_decrease=0.0,\n",
       "                                                 min_impurity_split=None,\n",
       "                                                 min_samples_leaf=1,\n",
       "                                                 min_samples_split=2,\n",
       "                                                 min_weight_fraction_leaf=0.0,\n",
       "                                                 n_estimators=200,\n",
       "                                                 n_iter_no_change=None,\n",
       "                                                 presort='deprecated',\n",
       "                                                 random_state=1, subsample=1.0,\n",
       "                                                 tol=0.0001,\n",
       "                                                 validation_fraction=0.1,\n",
       "                                                 verbose=0, warm_start=False),\n",
       "             iid='deprecated', n_jobs=None,\n",
       "             param_grid={'learning_rate': [0.1, 0.3, 0.5, 0.7, 0.9],\n",
       "                         'max_depth': [3, 5, 10],\n",
       "                         'n_estimators': [10, 20, 50, 70, 80, 90, 100]},\n",
       "             pre_dispatch='2*n_jobs', refit=True, return_train_score=False,\n",
       "             scoring='r2', verbose=1)"
      ]
     },
     "execution_count": 49,
     "metadata": {
      "tags": []
     },
     "output_type": "execute_result"
    }
   ],
   "source": [
    "from sklearn.model_selection import GridSearchCV\n",
    "from sklearn.metrics import f1_score\n",
    "from sklearn.tree import DecisionTreeRegressor\n",
    "params = {'learning_rate':[0.1,0.3,0.5,0.7,0.9], \n",
    "          \"max_depth\": [3,5,10],'n_estimators':[10,20,50,70,80,90,100]}\n",
    "grid_search_cv = GridSearchCV(gbr, params, scoring=\"r2\",verbose=1, cv=3)\n",
    "grid_search_cv.fit(X_train, y_train)"
   ]
  },
  {
   "cell_type": "code",
   "execution_count": 50,
   "metadata": {
    "colab": {
     "base_uri": "https://localhost:8080/"
    },
    "executionInfo": {
     "elapsed": 394,
     "status": "ok",
     "timestamp": 1629217765942,
     "user": {
      "displayName": "Uvaish Geelani",
      "photoUrl": "https://lh3.googleusercontent.com/a-/AOh14GjOM91FNPjWzjDRIY_hNAXM4WgKqeghWrc0gO0aNA=s64",
      "userId": "15853636562940562822"
     },
     "user_tz": -330
    },
    "id": "a62ffb8f",
    "outputId": "d695869a-3938-4509-8c8a-8c624ad03f10"
   },
   "outputs": [
    {
     "data": {
      "text/plain": [
       "{'learning_rate': 0.3, 'max_depth': 5, 'n_estimators': 70}"
      ]
     },
     "execution_count": 50,
     "metadata": {
      "tags": []
     },
     "output_type": "execute_result"
    }
   ],
   "source": [
    "grid_search_cv.best_params_"
   ]
  },
  {
   "cell_type": "code",
   "execution_count": 51,
   "metadata": {
    "executionInfo": {
     "elapsed": 386,
     "status": "ok",
     "timestamp": 1629217814678,
     "user": {
      "displayName": "Uvaish Geelani",
      "photoUrl": "https://lh3.googleusercontent.com/a-/AOh14GjOM91FNPjWzjDRIY_hNAXM4WgKqeghWrc0gO0aNA=s64",
      "userId": "15853636562940562822"
     },
     "user_tz": -330
    },
    "id": "Pa13FKKq2QC9"
   },
   "outputs": [],
   "source": [
    "gbr = GradientBoostingRegressor(learning_rate=0.3,n_estimators = 70, max_depth = 5, random_state = 1)"
   ]
  },
  {
   "cell_type": "code",
   "execution_count": 52,
   "metadata": {
    "colab": {
     "base_uri": "https://localhost:8080/"
    },
    "executionInfo": {
     "elapsed": 720,
     "status": "ok",
     "timestamp": 1629217827382,
     "user": {
      "displayName": "Uvaish Geelani",
      "photoUrl": "https://lh3.googleusercontent.com/a-/AOh14GjOM91FNPjWzjDRIY_hNAXM4WgKqeghWrc0gO0aNA=s64",
      "userId": "15853636562940562822"
     },
     "user_tz": -330
    },
    "id": "61cc0745",
    "outputId": "6dced0d6-dc23-46cc-f2ea-c71fc96cb0dc"
   },
   "outputs": [
    {
     "data": {
      "text/plain": [
       "GradientBoostingRegressor(alpha=0.9, ccp_alpha=0.0, criterion='friedman_mse',\n",
       "                          init=None, learning_rate=0.3, loss='ls', max_depth=5,\n",
       "                          max_features=None, max_leaf_nodes=None,\n",
       "                          min_impurity_decrease=0.0, min_impurity_split=None,\n",
       "                          min_samples_leaf=1, min_samples_split=2,\n",
       "                          min_weight_fraction_leaf=0.0, n_estimators=70,\n",
       "                          n_iter_no_change=None, presort='deprecated',\n",
       "                          random_state=1, subsample=1.0, tol=0.0001,\n",
       "                          validation_fraction=0.1, verbose=0, warm_start=False)"
      ]
     },
     "execution_count": 52,
     "metadata": {
      "tags": []
     },
     "output_type": "execute_result"
    }
   ],
   "source": [
    "gbr.fit(X_train, y_train)"
   ]
  },
  {
   "cell_type": "code",
   "execution_count": 53,
   "metadata": {
    "colab": {
     "base_uri": "https://localhost:8080/"
    },
    "executionInfo": {
     "elapsed": 7,
     "status": "ok",
     "timestamp": 1629217838712,
     "user": {
      "displayName": "Uvaish Geelani",
      "photoUrl": "https://lh3.googleusercontent.com/a-/AOh14GjOM91FNPjWzjDRIY_hNAXM4WgKqeghWrc0gO0aNA=s64",
      "userId": "15853636562940562822"
     },
     "user_tz": -330
    },
    "id": "a994bd17",
    "outputId": "5f0f3de6-aed1-4c69-be2f-562bf5cd879d"
   },
   "outputs": [
    {
     "data": {
      "text/plain": [
       "array([9.05456487, 9.3207107 , 9.52075614, ..., 9.13362337, 9.53791457,\n",
       "       9.18816954])"
      ]
     },
     "execution_count": 53,
     "metadata": {
      "tags": []
     },
     "output_type": "execute_result"
    }
   ],
   "source": [
    "pred_y1 = gbr.predict(X_test)\n",
    "pred_y1"
   ]
  },
  {
   "cell_type": "code",
   "execution_count": 54,
   "metadata": {
    "colab": {
     "base_uri": "https://localhost:8080/"
    },
    "executionInfo": {
     "elapsed": 665,
     "status": "ok",
     "timestamp": 1629217850987,
     "user": {
      "displayName": "Uvaish Geelani",
      "photoUrl": "https://lh3.googleusercontent.com/a-/AOh14GjOM91FNPjWzjDRIY_hNAXM4WgKqeghWrc0gO0aNA=s64",
      "userId": "15853636562940562822"
     },
     "user_tz": -330
    },
    "id": "6d0a40ba",
    "outputId": "ca573e14-f86e-4dc8-d051-6ea1e40cd013"
   },
   "outputs": [
    {
     "data": {
      "text/plain": [
       "0.8361853348596566"
      ]
     },
     "execution_count": 54,
     "metadata": {
      "tags": []
     },
     "output_type": "execute_result"
    }
   ],
   "source": [
    "gbr.score(X_train, y_train)"
   ]
  },
  {
   "cell_type": "code",
   "execution_count": 55,
   "metadata": {
    "colab": {
     "base_uri": "https://localhost:8080/"
    },
    "executionInfo": {
     "elapsed": 378,
     "status": "ok",
     "timestamp": 1629217859087,
     "user": {
      "displayName": "Uvaish Geelani",
      "photoUrl": "https://lh3.googleusercontent.com/a-/AOh14GjOM91FNPjWzjDRIY_hNAXM4WgKqeghWrc0gO0aNA=s64",
      "userId": "15853636562940562822"
     },
     "user_tz": -330
    },
    "id": "8956ad40",
    "outputId": "487971de-7d91-464b-bbc4-9aef541164d2"
   },
   "outputs": [
    {
     "data": {
      "text/plain": [
       "0.8235312202955641"
      ]
     },
     "execution_count": 55,
     "metadata": {
      "tags": []
     },
     "output_type": "execute_result"
    }
   ],
   "source": [
    "gbr.score(X_test, y_test)"
   ]
  },
  {
   "cell_type": "code",
   "execution_count": 57,
   "metadata": {
    "colab": {
     "base_uri": "https://localhost:8080/"
    },
    "executionInfo": {
     "elapsed": 406,
     "status": "ok",
     "timestamp": 1629217883932,
     "user": {
      "displayName": "Uvaish Geelani",
      "photoUrl": "https://lh3.googleusercontent.com/a-/AOh14GjOM91FNPjWzjDRIY_hNAXM4WgKqeghWrc0gO0aNA=s64",
      "userId": "15853636562940562822"
     },
     "user_tz": -330
    },
    "id": "eb09149e",
    "outputId": "f2d6388e-7ae0-49bf-cdc3-7fd4d82c1cfa"
   },
   "outputs": [
    {
     "data": {
      "text/plain": [
       "0.8235312202955642"
      ]
     },
     "execution_count": 57,
     "metadata": {
      "tags": []
     },
     "output_type": "execute_result"
    }
   ],
   "source": [
    "r2_score(y_test, pred_y1)"
   ]
  }
 ],
 "metadata": {
  "accelerator": "GPU",
  "colab": {
   "collapsed_sections": [],
   "name": "Gradient_Boosting_Uvaish.ipynb",
   "provenance": []
  },
  "kernelspec": {
   "display_name": "Python 3",
   "language": "python",
   "name": "python3"
  },
  "language_info": {
   "codemirror_mode": {
    "name": "ipython",
    "version": 3
   },
   "file_extension": ".py",
   "mimetype": "text/x-python",
   "name": "python",
   "nbconvert_exporter": "python",
   "pygments_lexer": "ipython3",
   "version": "3.8.3"
  }
 },
 "nbformat": 4,
 "nbformat_minor": 5
}
