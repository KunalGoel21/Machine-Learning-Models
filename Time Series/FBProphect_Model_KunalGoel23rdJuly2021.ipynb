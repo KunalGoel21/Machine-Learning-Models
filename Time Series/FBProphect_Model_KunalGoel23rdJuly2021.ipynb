{
 "cells": [
  {
   "cell_type": "markdown",
   "metadata": {
    "id": "5cZJe9f7mXtO"
   },
   "source": [
    "# FBProphet\n",
    "\n",
    "There are many models present for the predictive analysis of time series like Machine learning ARIMA (Auto-Regressive Integrated Moving Average model), Auto-Regressive model, Exponential Smoothing, LSTM (Long Short Term Memory).\n",
    "\n",
    "These models require the data to be fed and with certain tweaking and fine-tuning they help us to make predictions. \n",
    "\n",
    "To Reduce these steps for converting non stationery into stationery we can use this model, for all fine tuning we can use this model.\n",
    "\n",
    "This was launched by Facebook as an API for carrying out the forecasting related things for time series data. The library is powerful that it has the capability of handling stationarity within the data and also seasonality related components.\n",
    "\n",
    "The Prophet library is an open-source library designed for making forecasts for univariate time series datasets. It is easy to use and designed to automatically find a good set of hyperparameters for the model in an effort to make skillful forecasts for data with trends and seasonal structure by default.\n",
    "\n",
    "It is a General Additive Model(GAM).\n",
    "\n",
    "## Prophet\n",
    "\n",
    "Prophet is a facebooks’ open source time series prediction. Prophet decomposes time series into trend, seasonality and holiday. It has intuitive hyper parameters which are easy to tune.\n",
    "\n",
    "Prophet time series = Trend + Seasonality + Holiday + error\n",
    "\n",
    "Trend models non periodic changes in the value of the time series.\n",
    "\n",
    "Seasonality is the periodic changes like daily, weekly, or yearly seasonality.\n",
    "\n",
    "Holiday effect which occur on irregular schedules over a day or a period of days.\n",
    "\n",
    "Error terms is what is not explained by the model.\n",
    "\n",
    "## Advantages Of Prophet\n",
    "\n",
    "Accommodates seasonality with multiple periods.\n",
    "\n",
    "Prophet is resilient to missing values.\n",
    "\n",
    "Best way to handle outliers in Prophet is to remove them.\n",
    "\n",
    "Fitting of the model is fast.\n",
    "\n",
    "Intuitive hyper parameters which are easy to tune.\n",
    "\n",
    "### Installation\n",
    "\n",
    "1. To install Fbprophet one must first install Pystan which is a library that helps in running Fbprophet with ease. To install Pystan just open you Command Prompt or Anaconda Prompt and then type:\n",
    "\n",
    "pip install pystan\n",
    "\n",
    "2. Once Pystan is successfully downloaded, the next step is to install Fbprophet either by pip or conda. Under the same Command Prompt just type:\n",
    "\n",
    "pip install fbprophet\n",
    "\n",
    "or\n",
    "\n",
    "conda install -c conda-forge fbprophet\n",
    "\n",
    "3. Once, the installation finishes and throws no error then you have successfully installed the packages and are ready for the implementation."
   ]
  },
  {
   "cell_type": "markdown",
   "metadata": {
    "id": "m21pZEhmmXtX"
   },
   "source": [
    "## Parameters Of Model\n",
    "\n",
    "1. changepoint_prior_scale: This is probably the most impactful parameter. It determines the flexibility of the trend, and in particular how much the trend changes at the trend changepoints, if it is too small, the trend will be underfit and variance that should have been modeled with trend changes will instead end up being handled with the noise term. If it is too large, the trend will overfit and in the most extreme case you can end up with the trend capturing yearly seasonality. Default is 0.05, a range of [0.001, 0.5] would likely be about right, often on log scale.\n",
    "\n",
    "\n",
    "2. seasonality_prior_scale: This parameter controls the flexibility of the seasonality. Similarly, a large value allows the seasonality to fit large fluctuations, a small value shrinks the magnitude of the seasonality. The default is 10., which applies basically no regularization. It is for removing overfitting, This likely also makes sense on a log scale, since it is effectively an L2 penalty like in ridge regression.\n",
    "\n",
    "\n",
    "3. holidays_prior_scale: This controls flexibility to fit holiday effects. Similar to seasonality_prior_scale, it defaults to 10.0 which applies basically no regularization, since we usually have multiple observations of holidays and can do a good job of estimating their effects. This could also be tuned on a range of [0.01, 10] as with seasonality_prior_scale.\n",
    "\n",
    "\n",
    "4. seasonality_mode: Options are ['additive', 'multiplicative']. Default is 'additive', but many business time series will have multiplicative seasonality. This is best identified just from looking at the time series and seeing if the magnitude of seasonal fluctuations grows with the magnitude of the time series (see the documentation here on multiplicative seasonality), but when that isn’t possible, it could be tuned.\n",
    "\n",
    "\n",
    "5. growth: Options are ‘linear’ and ‘logistic’. This likely will not be tuned; if there is a known saturating point and growth towards that point it will be included and the logistic trend will be used, otherwise it will be linear.\n",
    "\n",
    "\n",
    "6. n_changepoints: This is the number of automatically placed changepoints. The default of 25 should be plenty to capture the trend changes in a typical time series (at least the type that Prophet would work well on anyway). Rather than increasing or decreasing the number of changepoints, it will likely be more effective to focus on increasing or decreasing the flexibility at those trend changes, which is done with changepoint_prior_scale.\n",
    "\n",
    "\n",
    "7. yearly_seasonality: By default (‘auto’) this will turn yearly seasonality on if there is a year of data, and off otherwise. Options are [‘auto’, True, False]. If there is more than a year of data, rather than trying to turn this off during HPO, it will likely be more effective to leave it on and turn down seasonal effects by tuning seasonality_prior_scale.\n",
    "\n",
    "\n",
    "8. holidays: This is to pass in a dataframe of specified holidays. The holiday effects would be tuned with holidays_prior_scale."
   ]
  },
  {
   "cell_type": "markdown",
   "metadata": {
    "id": "Z3jbfU3xmXtb"
   },
   "source": [
    "## Steps For Implementing\n",
    "\n",
    "1. Load The Packages\n",
    "2. Read Data\n",
    "3. Plot The Data\n",
    "4. Change Column Name as Date to ds and Output to y\n",
    "5. Convert Date into DateTime Variable\n",
    "6. Initialize The Model\n",
    "7. Drop Null Values\n",
    "8. Fit The Model\n",
    "9. Create Future Dates\n",
    "10. Prediction On Future Dates\n",
    "11. Prediction Head\n",
    "12. Plot Components\n",
    "13. Use Cross Validation\n",
    "14. Performance Matrix\n",
    "15. Plot Performance Matrix"
   ]
  },
  {
   "cell_type": "code",
   "execution_count": 2,
   "metadata": {
    "id": "bbYkavXwmiUA"
   },
   "outputs": [],
   "source": [
    "import pandas as pd\n",
    "from fbprophet import Prophet\n",
    "import matplotlib.pyplot as plt\n",
    "%matplotlib inline"
   ]
  },
  {
   "cell_type": "code",
   "execution_count": 28,
   "metadata": {
    "colab": {
     "base_uri": "https://localhost:8080/",
     "height": 72,
     "resources": {
      "http://localhost:8080/nbextensions/google.colab/files.js": {
       "data": "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",
       "headers": [
        [
         "content-type",
         "application/javascript"
        ]
       ],
       "ok": true,
       "status": 200,
       "status_text": ""
      }
     }
    },
    "id": "ExujaQtTmuMv",
    "outputId": "8b8af14e-67b9-4d41-fd62-6f582fe5e701"
   },
   "outputs": [
    {
     "data": {
      "text/html": [
       "\n",
       "     <input type=\"file\" id=\"files-0fa834ee-f19d-4510-ab9e-e5b5160b45c1\" name=\"files[]\" multiple disabled\n",
       "        style=\"border:none\" />\n",
       "     <output id=\"result-0fa834ee-f19d-4510-ab9e-e5b5160b45c1\">\n",
       "      Upload widget is only available when the cell has been executed in the\n",
       "      current browser session. Please rerun this cell to enable.\n",
       "      </output>\n",
       "      <script src=\"/nbextensions/google.colab/files.js\"></script> "
      ],
      "text/plain": [
       "<IPython.core.display.HTML object>"
      ]
     },
     "metadata": {
      "tags": []
     },
     "output_type": "display_data"
    },
    {
     "name": "stdout",
     "output_type": "stream",
     "text": [
      "Saving airline_passengers.csv to airline_passengers (1).csv\n"
     ]
    }
   ],
   "source": [
    "from google.colab import files\n",
    "uploaded = files.upload()"
   ]
  },
  {
   "cell_type": "code",
   "execution_count": 29,
   "metadata": {
    "id": "3hMFrBpUm4ov"
   },
   "outputs": [],
   "source": [
    "df=pd.read_csv('airline_passengers.csv')"
   ]
  },
  {
   "cell_type": "code",
   "execution_count": 30,
   "metadata": {
    "colab": {
     "base_uri": "https://localhost:8080/",
     "height": 204
    },
    "id": "bN9h7zp8nFYv",
    "outputId": "6c4f8661-45a1-4b9e-88a7-12142eb0662e"
   },
   "outputs": [
    {
     "data": {
      "text/html": [
       "<div>\n",
       "<style scoped>\n",
       "    .dataframe tbody tr th:only-of-type {\n",
       "        vertical-align: middle;\n",
       "    }\n",
       "\n",
       "    .dataframe tbody tr th {\n",
       "        vertical-align: top;\n",
       "    }\n",
       "\n",
       "    .dataframe thead th {\n",
       "        text-align: right;\n",
       "    }\n",
       "</style>\n",
       "<table border=\"1\" class=\"dataframe\">\n",
       "  <thead>\n",
       "    <tr style=\"text-align: right;\">\n",
       "      <th></th>\n",
       "      <th>Month</th>\n",
       "      <th>Thousands of Passengers</th>\n",
       "    </tr>\n",
       "  </thead>\n",
       "  <tbody>\n",
       "    <tr>\n",
       "      <th>0</th>\n",
       "      <td>1949-01</td>\n",
       "      <td>112.0</td>\n",
       "    </tr>\n",
       "    <tr>\n",
       "      <th>1</th>\n",
       "      <td>1949-02</td>\n",
       "      <td>118.0</td>\n",
       "    </tr>\n",
       "    <tr>\n",
       "      <th>2</th>\n",
       "      <td>1949-03</td>\n",
       "      <td>132.0</td>\n",
       "    </tr>\n",
       "    <tr>\n",
       "      <th>3</th>\n",
       "      <td>1949-04</td>\n",
       "      <td>129.0</td>\n",
       "    </tr>\n",
       "    <tr>\n",
       "      <th>4</th>\n",
       "      <td>1949-05</td>\n",
       "      <td>121.0</td>\n",
       "    </tr>\n",
       "  </tbody>\n",
       "</table>\n",
       "</div>"
      ],
      "text/plain": [
       "     Month  Thousands of Passengers\n",
       "0  1949-01                    112.0\n",
       "1  1949-02                    118.0\n",
       "2  1949-03                    132.0\n",
       "3  1949-04                    129.0\n",
       "4  1949-05                    121.0"
      ]
     },
     "execution_count": 30,
     "metadata": {
      "tags": []
     },
     "output_type": "execute_result"
    }
   ],
   "source": [
    "df.head()"
   ]
  },
  {
   "cell_type": "code",
   "execution_count": 31,
   "metadata": {
    "id": "aGc_hW0hnPen"
   },
   "outputs": [],
   "source": [
    "df.drop(144,axis=0,inplace=True)"
   ]
  },
  {
   "cell_type": "code",
   "execution_count": 32,
   "metadata": {
    "colab": {
     "base_uri": "https://localhost:8080/"
    },
    "id": "25a6hSfZnYv3",
    "outputId": "bf640ad4-6ab3-49ba-a96e-a0fccef10fa0"
   },
   "outputs": [
    {
     "name": "stdout",
     "output_type": "stream",
     "text": [
      "<class 'pandas.core.frame.DataFrame'>\n",
      "Int64Index: 144 entries, 0 to 143\n",
      "Data columns (total 2 columns):\n",
      " #   Column                   Non-Null Count  Dtype  \n",
      "---  ------                   --------------  -----  \n",
      " 0   Month                    144 non-null    object \n",
      " 1   Thousands of Passengers  144 non-null    float64\n",
      "dtypes: float64(1), object(1)\n",
      "memory usage: 3.4+ KB\n"
     ]
    }
   ],
   "source": [
    "df.info()"
   ]
  },
  {
   "cell_type": "code",
   "execution_count": 33,
   "metadata": {
    "id": "RkcXkmIMniBe"
   },
   "outputs": [],
   "source": [
    "df['Month'] = pd.to_datetime(df['Month'])"
   ]
  },
  {
   "cell_type": "code",
   "execution_count": 34,
   "metadata": {
    "colab": {
     "base_uri": "https://localhost:8080/",
     "height": 204
    },
    "id": "Sm9OLr8CnuiI",
    "outputId": "16610720-5315-469c-f0a2-850e1be56390"
   },
   "outputs": [
    {
     "data": {
      "text/html": [
       "<div>\n",
       "<style scoped>\n",
       "    .dataframe tbody tr th:only-of-type {\n",
       "        vertical-align: middle;\n",
       "    }\n",
       "\n",
       "    .dataframe tbody tr th {\n",
       "        vertical-align: top;\n",
       "    }\n",
       "\n",
       "    .dataframe thead th {\n",
       "        text-align: right;\n",
       "    }\n",
       "</style>\n",
       "<table border=\"1\" class=\"dataframe\">\n",
       "  <thead>\n",
       "    <tr style=\"text-align: right;\">\n",
       "      <th></th>\n",
       "      <th>ds</th>\n",
       "      <th>y</th>\n",
       "    </tr>\n",
       "  </thead>\n",
       "  <tbody>\n",
       "    <tr>\n",
       "      <th>0</th>\n",
       "      <td>1949-01-01</td>\n",
       "      <td>112.0</td>\n",
       "    </tr>\n",
       "    <tr>\n",
       "      <th>1</th>\n",
       "      <td>1949-02-01</td>\n",
       "      <td>118.0</td>\n",
       "    </tr>\n",
       "    <tr>\n",
       "      <th>2</th>\n",
       "      <td>1949-03-01</td>\n",
       "      <td>132.0</td>\n",
       "    </tr>\n",
       "    <tr>\n",
       "      <th>3</th>\n",
       "      <td>1949-04-01</td>\n",
       "      <td>129.0</td>\n",
       "    </tr>\n",
       "    <tr>\n",
       "      <th>4</th>\n",
       "      <td>1949-05-01</td>\n",
       "      <td>121.0</td>\n",
       "    </tr>\n",
       "  </tbody>\n",
       "</table>\n",
       "</div>"
      ],
      "text/plain": [
       "          ds      y\n",
       "0 1949-01-01  112.0\n",
       "1 1949-02-01  118.0\n",
       "2 1949-03-01  132.0\n",
       "3 1949-04-01  129.0\n",
       "4 1949-05-01  121.0"
      ]
     },
     "execution_count": 34,
     "metadata": {
      "tags": []
     },
     "output_type": "execute_result"
    }
   ],
   "source": [
    "df.columns = ['ds','y']\n",
    "df.head()"
   ]
  },
  {
   "cell_type": "code",
   "execution_count": 35,
   "metadata": {
    "colab": {
     "base_uri": "https://localhost:8080/",
     "height": 609
    },
    "id": "pKQgE2IVnymn",
    "outputId": "f6f905b7-5fae-4b1e-f1ff-f10382413377"
   },
   "outputs": [
    {
     "data": {
      "text/plain": [
       "[<matplotlib.lines.Line2D at 0x7f078200d990>]"
      ]
     },
     "execution_count": 35,
     "metadata": {
      "tags": []
     },
     "output_type": "execute_result"
    },
    {
     "data": {
      "image/png": "[encoded data removed]",
      "text/plain": [
       "<Figure size 1008x720 with 1 Axes>"
      ]
     },
     "metadata": {
      "needs_background": "light",
      "tags": []
     },
     "output_type": "display_data"
    }
   ],
   "source": [
    "plt.figure(figsize=(14,10))\n",
    "plt.plot(df.set_index(['ds']))"
   ]
  },
  {
   "cell_type": "code",
   "execution_count": 51,
   "metadata": {
    "id": "glljlaJJoCS_"
   },
   "outputs": [],
   "source": [
    "# Initialize the Model\n",
    "model=Prophet()"
   ]
  },
  {
   "cell_type": "code",
   "execution_count": 52,
   "metadata": {
    "colab": {
     "base_uri": "https://localhost:8080/"
    },
    "id": "sLSrHelBoM0P",
    "outputId": "9c7550d9-6adf-495e-e379-3189bafa172b"
   },
   "outputs": [
    {
     "data": {
      "text/plain": [
       "Index(['ds', 'y'], dtype='object')"
      ]
     },
     "execution_count": 52,
     "metadata": {
      "tags": []
     },
     "output_type": "execute_result"
    }
   ],
   "source": [
    "df.columns"
   ]
  },
  {
   "cell_type": "code",
   "execution_count": 38,
   "metadata": {
    "id": "4OlGP930oRa5"
   },
   "outputs": [],
   "source": [
    "df.dropna(axis=0,inplace=True)"
   ]
  },
  {
   "cell_type": "code",
   "execution_count": 53,
   "metadata": {
    "colab": {
     "base_uri": "https://localhost:8080/"
    },
    "id": "JjZYOrByoaDK",
    "outputId": "6f5c9c45-7860-4d1b-e9fd-34d1e531c434"
   },
   "outputs": [
    {
     "name": "stderr",
     "output_type": "stream",
     "text": [
      "INFO:fbprophet:Disabling weekly seasonality. Run prophet with weekly_seasonality=True to override this.\n",
      "INFO:fbprophet:Disabling daily seasonality. Run prophet with daily_seasonality=True to override this.\n"
     ]
    },
    {
     "data": {
      "text/plain": [
       "<fbprophet.forecaster.Prophet at 0x7f077f763110>"
      ]
     },
     "execution_count": 53,
     "metadata": {
      "tags": []
     },
     "output_type": "execute_result"
    }
   ],
   "source": [
    "model.fit(df)"
   ]
  },
  {
   "cell_type": "code",
   "execution_count": 54,
   "metadata": {
    "id": "4y2K68YYoguH"
   },
   "outputs": [],
   "source": [
    "### Create future dates of 365 days\n",
    "future_dates=model.make_future_dataframe(periods=365)"
   ]
  },
  {
   "cell_type": "code",
   "execution_count": 55,
   "metadata": {
    "colab": {
     "base_uri": "https://localhost:8080/",
     "height": 204
    },
    "id": "-QHaY0RnovhI",
    "outputId": "b332f2f6-a739-4fea-e2a3-564c9799fbe0"
   },
   "outputs": [
    {
     "data": {
      "text/html": [
       "<div>\n",
       "<style scoped>\n",
       "    .dataframe tbody tr th:only-of-type {\n",
       "        vertical-align: middle;\n",
       "    }\n",
       "\n",
       "    .dataframe tbody tr th {\n",
       "        vertical-align: top;\n",
       "    }\n",
       "\n",
       "    .dataframe thead th {\n",
       "        text-align: right;\n",
       "    }\n",
       "</style>\n",
       "<table border=\"1\" class=\"dataframe\">\n",
       "  <thead>\n",
       "    <tr style=\"text-align: right;\">\n",
       "      <th></th>\n",
       "      <th>ds</th>\n",
       "    </tr>\n",
       "  </thead>\n",
       "  <tbody>\n",
       "    <tr>\n",
       "      <th>504</th>\n",
       "      <td>1961-11-27</td>\n",
       "    </tr>\n",
       "    <tr>\n",
       "      <th>505</th>\n",
       "      <td>1961-11-28</td>\n",
       "    </tr>\n",
       "    <tr>\n",
       "      <th>506</th>\n",
       "      <td>1961-11-29</td>\n",
       "    </tr>\n",
       "    <tr>\n",
       "      <th>507</th>\n",
       "      <td>1961-11-30</td>\n",
       "    </tr>\n",
       "    <tr>\n",
       "      <th>508</th>\n",
       "      <td>1961-12-01</td>\n",
       "    </tr>\n",
       "  </tbody>\n",
       "</table>\n",
       "</div>"
      ],
      "text/plain": [
       "            ds\n",
       "504 1961-11-27\n",
       "505 1961-11-28\n",
       "506 1961-11-29\n",
       "507 1961-11-30\n",
       "508 1961-12-01"
      ]
     },
     "execution_count": 55,
     "metadata": {
      "tags": []
     },
     "output_type": "execute_result"
    }
   ],
   "source": [
    "future_dates.tail()"
   ]
  },
  {
   "cell_type": "code",
   "execution_count": 56,
   "metadata": {
    "id": "dFjYVZ89o1BI"
   },
   "outputs": [],
   "source": [
    "prediction=model.predict(future_dates)"
   ]
  },
  {
   "cell_type": "code",
   "execution_count": 57,
   "metadata": {
    "colab": {
     "base_uri": "https://localhost:8080/",
     "height": 309
    },
    "id": "yIMORyy1o5QH",
    "outputId": "f705bc8d-2637-4522-d510-5d5b03c37e3e"
   },
   "outputs": [
    {
     "data": {
      "text/html": [
       "<div>\n",
       "<style scoped>\n",
       "    .dataframe tbody tr th:only-of-type {\n",
       "        vertical-align: middle;\n",
       "    }\n",
       "\n",
       "    .dataframe tbody tr th {\n",
       "        vertical-align: top;\n",
       "    }\n",
       "\n",
       "    .dataframe thead th {\n",
       "        text-align: right;\n",
       "    }\n",
       "</style>\n",
       "<table border=\"1\" class=\"dataframe\">\n",
       "  <thead>\n",
       "    <tr style=\"text-align: right;\">\n",
       "      <th></th>\n",
       "      <th>ds</th>\n",
       "      <th>trend</th>\n",
       "      <th>yhat_lower</th>\n",
       "      <th>yhat_upper</th>\n",
       "      <th>trend_lower</th>\n",
       "      <th>trend_upper</th>\n",
       "      <th>additive_terms</th>\n",
       "      <th>additive_terms_lower</th>\n",
       "      <th>additive_terms_upper</th>\n",
       "      <th>yearly</th>\n",
       "      <th>yearly_lower</th>\n",
       "      <th>yearly_upper</th>\n",
       "      <th>multiplicative_terms</th>\n",
       "      <th>multiplicative_terms_lower</th>\n",
       "      <th>multiplicative_terms_upper</th>\n",
       "      <th>yhat</th>\n",
       "    </tr>\n",
       "  </thead>\n",
       "  <tbody>\n",
       "    <tr>\n",
       "      <th>0</th>\n",
       "      <td>1949-01-01</td>\n",
       "      <td>106.727984</td>\n",
       "      <td>55.315087</td>\n",
       "      <td>114.314715</td>\n",
       "      <td>106.727984</td>\n",
       "      <td>106.727984</td>\n",
       "      <td>-21.920631</td>\n",
       "      <td>-21.920631</td>\n",
       "      <td>-21.920631</td>\n",
       "      <td>-21.920631</td>\n",
       "      <td>-21.920631</td>\n",
       "      <td>-21.920631</td>\n",
       "      <td>0.0</td>\n",
       "      <td>0.0</td>\n",
       "      <td>0.0</td>\n",
       "      <td>84.807353</td>\n",
       "    </tr>\n",
       "    <tr>\n",
       "      <th>1</th>\n",
       "      <td>1949-02-01</td>\n",
       "      <td>108.901201</td>\n",
       "      <td>51.026057</td>\n",
       "      <td>106.060416</td>\n",
       "      <td>108.901201</td>\n",
       "      <td>108.901201</td>\n",
       "      <td>-30.682847</td>\n",
       "      <td>-30.682847</td>\n",
       "      <td>-30.682847</td>\n",
       "      <td>-30.682847</td>\n",
       "      <td>-30.682847</td>\n",
       "      <td>-30.682847</td>\n",
       "      <td>0.0</td>\n",
       "      <td>0.0</td>\n",
       "      <td>0.0</td>\n",
       "      <td>78.218354</td>\n",
       "    </tr>\n",
       "    <tr>\n",
       "      <th>2</th>\n",
       "      <td>1949-03-01</td>\n",
       "      <td>110.864107</td>\n",
       "      <td>82.057959</td>\n",
       "      <td>137.649496</td>\n",
       "      <td>110.864107</td>\n",
       "      <td>110.864107</td>\n",
       "      <td>-0.502710</td>\n",
       "      <td>-0.502710</td>\n",
       "      <td>-0.502710</td>\n",
       "      <td>-0.502710</td>\n",
       "      <td>-0.502710</td>\n",
       "      <td>-0.502710</td>\n",
       "      <td>0.0</td>\n",
       "      <td>0.0</td>\n",
       "      <td>0.0</td>\n",
       "      <td>110.361397</td>\n",
       "    </tr>\n",
       "    <tr>\n",
       "      <th>3</th>\n",
       "      <td>1949-04-01</td>\n",
       "      <td>113.037323</td>\n",
       "      <td>79.360350</td>\n",
       "      <td>136.159505</td>\n",
       "      <td>113.037323</td>\n",
       "      <td>113.037323</td>\n",
       "      <td>-5.185501</td>\n",
       "      <td>-5.185501</td>\n",
       "      <td>-5.185501</td>\n",
       "      <td>-5.185501</td>\n",
       "      <td>-5.185501</td>\n",
       "      <td>-5.185501</td>\n",
       "      <td>0.0</td>\n",
       "      <td>0.0</td>\n",
       "      <td>0.0</td>\n",
       "      <td>107.851823</td>\n",
       "    </tr>\n",
       "    <tr>\n",
       "      <th>4</th>\n",
       "      <td>1949-05-01</td>\n",
       "      <td>115.140437</td>\n",
       "      <td>83.079221</td>\n",
       "      <td>138.461734</td>\n",
       "      <td>115.140437</td>\n",
       "      <td>115.140437</td>\n",
       "      <td>-3.788702</td>\n",
       "      <td>-3.788702</td>\n",
       "      <td>-3.788702</td>\n",
       "      <td>-3.788702</td>\n",
       "      <td>-3.788702</td>\n",
       "      <td>-3.788702</td>\n",
       "      <td>0.0</td>\n",
       "      <td>0.0</td>\n",
       "      <td>0.0</td>\n",
       "      <td>111.351735</td>\n",
       "    </tr>\n",
       "  </tbody>\n",
       "</table>\n",
       "</div>"
      ],
      "text/plain": [
       "          ds       trend  ...  multiplicative_terms_upper        yhat\n",
       "0 1949-01-01  106.727984  ...                         0.0   84.807353\n",
       "1 1949-02-01  108.901201  ...                         0.0   78.218354\n",
       "2 1949-03-01  110.864107  ...                         0.0  110.361397\n",
       "3 1949-04-01  113.037323  ...                         0.0  107.851823\n",
       "4 1949-05-01  115.140437  ...                         0.0  111.351735\n",
       "\n",
       "[5 rows x 16 columns]"
      ]
     },
     "execution_count": 57,
     "metadata": {
      "tags": []
     },
     "output_type": "execute_result"
    }
   ],
   "source": [
    "prediction.head()"
   ]
  },
  {
   "cell_type": "code",
   "execution_count": 58,
   "metadata": {
    "colab": {
     "base_uri": "https://localhost:8080/",
     "height": 309
    },
    "id": "RTz_ffjntTRh",
    "outputId": "188d5407-abfa-473e-8847-df175b0f0a21"
   },
   "outputs": [
    {
     "data": {
      "text/html": [
       "<div>\n",
       "<style scoped>\n",
       "    .dataframe tbody tr th:only-of-type {\n",
       "        vertical-align: middle;\n",
       "    }\n",
       "\n",
       "    .dataframe tbody tr th {\n",
       "        vertical-align: top;\n",
       "    }\n",
       "\n",
       "    .dataframe thead th {\n",
       "        text-align: right;\n",
       "    }\n",
       "</style>\n",
       "<table border=\"1\" class=\"dataframe\">\n",
       "  <thead>\n",
       "    <tr style=\"text-align: right;\">\n",
       "      <th></th>\n",
       "      <th>ds</th>\n",
       "      <th>trend</th>\n",
       "      <th>yhat_lower</th>\n",
       "      <th>yhat_upper</th>\n",
       "      <th>trend_lower</th>\n",
       "      <th>trend_upper</th>\n",
       "      <th>additive_terms</th>\n",
       "      <th>additive_terms_lower</th>\n",
       "      <th>additive_terms_upper</th>\n",
       "      <th>yearly</th>\n",
       "      <th>yearly_lower</th>\n",
       "      <th>yearly_upper</th>\n",
       "      <th>multiplicative_terms</th>\n",
       "      <th>multiplicative_terms_lower</th>\n",
       "      <th>multiplicative_terms_upper</th>\n",
       "      <th>yhat</th>\n",
       "    </tr>\n",
       "  </thead>\n",
       "  <tbody>\n",
       "    <tr>\n",
       "      <th>504</th>\n",
       "      <td>1961-11-27</td>\n",
       "      <td>520.639276</td>\n",
       "      <td>467.077975</td>\n",
       "      <td>527.318123</td>\n",
       "      <td>520.084114</td>\n",
       "      <td>521.193495</td>\n",
       "      <td>-22.354203</td>\n",
       "      <td>-22.354203</td>\n",
       "      <td>-22.354203</td>\n",
       "      <td>-22.354203</td>\n",
       "      <td>-22.354203</td>\n",
       "      <td>-22.354203</td>\n",
       "      <td>0.0</td>\n",
       "      <td>0.0</td>\n",
       "      <td>0.0</td>\n",
       "      <td>498.285073</td>\n",
       "    </tr>\n",
       "    <tr>\n",
       "      <th>505</th>\n",
       "      <td>1961-11-28</td>\n",
       "      <td>520.739726</td>\n",
       "      <td>468.983287</td>\n",
       "      <td>524.282640</td>\n",
       "      <td>520.181178</td>\n",
       "      <td>521.296333</td>\n",
       "      <td>-23.984202</td>\n",
       "      <td>-23.984202</td>\n",
       "      <td>-23.984202</td>\n",
       "      <td>-23.984202</td>\n",
       "      <td>-23.984202</td>\n",
       "      <td>-23.984202</td>\n",
       "      <td>0.0</td>\n",
       "      <td>0.0</td>\n",
       "      <td>0.0</td>\n",
       "      <td>496.755524</td>\n",
       "    </tr>\n",
       "    <tr>\n",
       "      <th>506</th>\n",
       "      <td>1961-11-29</td>\n",
       "      <td>520.840176</td>\n",
       "      <td>464.929338</td>\n",
       "      <td>523.403715</td>\n",
       "      <td>520.277846</td>\n",
       "      <td>521.399612</td>\n",
       "      <td>-26.252105</td>\n",
       "      <td>-26.252105</td>\n",
       "      <td>-26.252105</td>\n",
       "      <td>-26.252105</td>\n",
       "      <td>-26.252105</td>\n",
       "      <td>-26.252105</td>\n",
       "      <td>0.0</td>\n",
       "      <td>0.0</td>\n",
       "      <td>0.0</td>\n",
       "      <td>494.588071</td>\n",
       "    </tr>\n",
       "    <tr>\n",
       "      <th>507</th>\n",
       "      <td>1961-11-30</td>\n",
       "      <td>520.940625</td>\n",
       "      <td>461.062056</td>\n",
       "      <td>521.861278</td>\n",
       "      <td>520.374514</td>\n",
       "      <td>521.502891</td>\n",
       "      <td>-29.113730</td>\n",
       "      <td>-29.113730</td>\n",
       "      <td>-29.113730</td>\n",
       "      <td>-29.113730</td>\n",
       "      <td>-29.113730</td>\n",
       "      <td>-29.113730</td>\n",
       "      <td>0.0</td>\n",
       "      <td>0.0</td>\n",
       "      <td>0.0</td>\n",
       "      <td>491.826895</td>\n",
       "    </tr>\n",
       "    <tr>\n",
       "      <th>508</th>\n",
       "      <td>1961-12-01</td>\n",
       "      <td>521.041075</td>\n",
       "      <td>457.632216</td>\n",
       "      <td>517.728072</td>\n",
       "      <td>520.471182</td>\n",
       "      <td>521.606170</td>\n",
       "      <td>-32.509534</td>\n",
       "      <td>-32.509534</td>\n",
       "      <td>-32.509534</td>\n",
       "      <td>-32.509534</td>\n",
       "      <td>-32.509534</td>\n",
       "      <td>-32.509534</td>\n",
       "      <td>0.0</td>\n",
       "      <td>0.0</td>\n",
       "      <td>0.0</td>\n",
       "      <td>488.531541</td>\n",
       "    </tr>\n",
       "  </tbody>\n",
       "</table>\n",
       "</div>"
      ],
      "text/plain": [
       "            ds       trend  ...  multiplicative_terms_upper        yhat\n",
       "504 1961-11-27  520.639276  ...                         0.0  498.285073\n",
       "505 1961-11-28  520.739726  ...                         0.0  496.755524\n",
       "506 1961-11-29  520.840176  ...                         0.0  494.588071\n",
       "507 1961-11-30  520.940625  ...                         0.0  491.826895\n",
       "508 1961-12-01  521.041075  ...                         0.0  488.531541\n",
       "\n",
       "[5 rows x 16 columns]"
      ]
     },
     "execution_count": 58,
     "metadata": {
      "tags": []
     },
     "output_type": "execute_result"
    }
   ],
   "source": [
    "prediction.tail()"
   ]
  },
  {
   "cell_type": "code",
   "execution_count": 59,
   "metadata": {
    "colab": {
     "base_uri": "https://localhost:8080/",
     "height": 865
    },
    "id": "ATlFFupBpCNv",
    "outputId": "96b6f2f3-eb19-4eb4-bca2-671907517ec4"
   },
   "outputs": [
    {
     "data": {
      "image/png": "[encoded data removed]",
      "text/plain": [
       "<Figure size 720x432 with 1 Axes>"
      ]
     },
     "execution_count": 59,
     "metadata": {
      "tags": []
     },
     "output_type": "execute_result"
    },
    {
     "data": {
      "image/png": "[encoded data removed]",
      "text/plain": [
       "<Figure size 720x432 with 1 Axes>"
      ]
     },
     "metadata": {
      "tags": []
     },
     "output_type": "display_data"
    }
   ],
   "source": [
    "### plot the predicted projection\n",
    "model.plot(prediction)"
   ]
  },
  {
   "cell_type": "code",
   "execution_count": 60,
   "metadata": {
    "colab": {
     "base_uri": "https://localhost:8080/",
     "height": 865
    },
    "id": "rbdS8c5spMF4",
    "outputId": "12da486b-6cc9-4912-966c-e78800356f52"
   },
   "outputs": [
    {
     "data": {
      "image/png": "[encoded data removed]",
      "text/plain": [
       "<Figure size 648x432 with 2 Axes>"
      ]
     },
     "execution_count": 60,
     "metadata": {
      "tags": []
     },
     "output_type": "execute_result"
    },
    {
     "data": {
      "image/png": "[encoded data removed]",
      "text/plain": [
       "<Figure size 648x432 with 2 Axes>"
      ]
     },
     "metadata": {
      "tags": []
     },
     "output_type": "display_data"
    }
   ],
   "source": [
    "#### Visualize Each Components[Trends,yearly]\n",
    "model.plot_components(prediction)"
   ]
  },
  {
   "cell_type": "markdown",
   "metadata": {
    "id": "z6IMIJ-NpmlQ"
   },
   "source": [
    "##### Example\n",
    "Time Series Analysis\n",
    "\n",
    "1960-1962\n",
    "Cross Validation\n",
    "\n",
    "1960-61---Train dataset\n",
    "\n",
    "1961-62--Test dataset\n",
    "\n",
    "1962-63---Validation"
   ]
  },
  {
   "cell_type": "code",
   "execution_count": 61,
   "metadata": {
    "colab": {
     "base_uri": "https://localhost:8080/",
     "height": 304,
     "referenced_widgets": [
      "22eb85aa98d64c3babb2146fffd2a004",
      "48407597770e459aa89dc7cac5743379",
      "a007f1949d3f4588b6304dcccfd27567",
      "ad3defcd64594a398fa02ce547e8c4e7",
      "9304b12373134d82af0bb914a657e815",
      "7448c0e1aa6743b68f89f9434d960387",
      "5621e9412b9446069be9f282b47438db",
      "d5b0e8f249cc4247b044a7fba8d823ca"
     ]
    },
    "id": "QSZj8yVzpgw3",
    "outputId": "ec2ecb3c-ac7a-4a42-cd6f-a4a09f79ee8d"
   },
   "outputs": [
    {
     "name": "stderr",
     "output_type": "stream",
     "text": [
      "INFO:fbprophet:Making 19 forecasts with cutoffs between 1951-01-18 00:00:00 and 1959-12-02 00:00:00\n"
     ]
    },
    {
     "data": {
      "application/vnd.jupyter.widget-view+json": {
       "model_id": "22eb85aa98d64c3babb2146fffd2a004",
       "version_major": 2,
       "version_minor": 0
      },
      "text/plain": [
       "HBox(children=(FloatProgress(value=0.0, max=19.0), HTML(value='')))"
      ]
     },
     "metadata": {
      "tags": []
     },
     "output_type": "display_data"
    },
    {
     "name": "stderr",
     "output_type": "stream",
     "text": [
      "INFO:fbprophet:n_changepoints greater than number of observations. Using 19.\n",
      "INFO:fbprophet:n_changepoints greater than number of observations. Using 23.\n"
     ]
    },
    {
     "name": "stdout",
     "output_type": "stream",
     "text": [
      "\n"
     ]
    },
    {
     "data": {
      "text/html": [
       "<div>\n",
       "<style scoped>\n",
       "    .dataframe tbody tr th:only-of-type {\n",
       "        vertical-align: middle;\n",
       "    }\n",
       "\n",
       "    .dataframe tbody tr th {\n",
       "        vertical-align: top;\n",
       "    }\n",
       "\n",
       "    .dataframe thead th {\n",
       "        text-align: right;\n",
       "    }\n",
       "</style>\n",
       "<table border=\"1\" class=\"dataframe\">\n",
       "  <thead>\n",
       "    <tr style=\"text-align: right;\">\n",
       "      <th></th>\n",
       "      <th>ds</th>\n",
       "      <th>yhat</th>\n",
       "      <th>yhat_lower</th>\n",
       "      <th>yhat_upper</th>\n",
       "      <th>y</th>\n",
       "      <th>cutoff</th>\n",
       "    </tr>\n",
       "  </thead>\n",
       "  <tbody>\n",
       "    <tr>\n",
       "      <th>0</th>\n",
       "      <td>1951-02-01</td>\n",
       "      <td>158.013969</td>\n",
       "      <td>157.853198</td>\n",
       "      <td>158.223773</td>\n",
       "      <td>150.0</td>\n",
       "      <td>1951-01-18</td>\n",
       "    </tr>\n",
       "    <tr>\n",
       "      <th>1</th>\n",
       "      <td>1951-03-01</td>\n",
       "      <td>171.224502</td>\n",
       "      <td>170.578696</td>\n",
       "      <td>171.910986</td>\n",
       "      <td>178.0</td>\n",
       "      <td>1951-01-18</td>\n",
       "    </tr>\n",
       "    <tr>\n",
       "      <th>2</th>\n",
       "      <td>1951-04-01</td>\n",
       "      <td>159.628157</td>\n",
       "      <td>158.420424</td>\n",
       "      <td>161.008774</td>\n",
       "      <td>163.0</td>\n",
       "      <td>1951-01-18</td>\n",
       "    </tr>\n",
       "    <tr>\n",
       "      <th>3</th>\n",
       "      <td>1951-05-01</td>\n",
       "      <td>145.666500</td>\n",
       "      <td>143.659110</td>\n",
       "      <td>147.851860</td>\n",
       "      <td>172.0</td>\n",
       "      <td>1951-01-18</td>\n",
       "    </tr>\n",
       "    <tr>\n",
       "      <th>4</th>\n",
       "      <td>1951-06-01</td>\n",
       "      <td>180.679910</td>\n",
       "      <td>177.699174</td>\n",
       "      <td>183.800823</td>\n",
       "      <td>178.0</td>\n",
       "      <td>1951-01-18</td>\n",
       "    </tr>\n",
       "  </tbody>\n",
       "</table>\n",
       "</div>"
      ],
      "text/plain": [
       "          ds        yhat  yhat_lower  yhat_upper      y     cutoff\n",
       "0 1951-02-01  158.013969  157.853198  158.223773  150.0 1951-01-18\n",
       "1 1951-03-01  171.224502  170.578696  171.910986  178.0 1951-01-18\n",
       "2 1951-04-01  159.628157  158.420424  161.008774  163.0 1951-01-18\n",
       "3 1951-05-01  145.666500  143.659110  147.851860  172.0 1951-01-18\n",
       "4 1951-06-01  180.679910  177.699174  183.800823  178.0 1951-01-18"
      ]
     },
     "execution_count": 61,
     "metadata": {
      "tags": []
     },
     "output_type": "execute_result"
    }
   ],
   "source": [
    "from fbprophet.diagnostics import cross_validation\n",
    "df_cv = cross_validation(model, initial='730 days', period='180 days', horizon = '365 days')\n",
    "df_cv.head()"
   ]
  },
  {
   "cell_type": "code",
   "execution_count": 48,
   "metadata": {
    "colab": {
     "base_uri": "https://localhost:8080/",
     "height": 204
    },
    "id": "DK6tby5PqJsZ",
    "outputId": "c4b445d7-fc39-4740-da84-86112e7a88c8"
   },
   "outputs": [
    {
     "data": {
      "text/html": [
       "<div>\n",
       "<style scoped>\n",
       "    .dataframe tbody tr th:only-of-type {\n",
       "        vertical-align: middle;\n",
       "    }\n",
       "\n",
       "    .dataframe tbody tr th {\n",
       "        vertical-align: top;\n",
       "    }\n",
       "\n",
       "    .dataframe thead th {\n",
       "        text-align: right;\n",
       "    }\n",
       "</style>\n",
       "<table border=\"1\" class=\"dataframe\">\n",
       "  <thead>\n",
       "    <tr style=\"text-align: right;\">\n",
       "      <th></th>\n",
       "      <th>horizon</th>\n",
       "      <th>mse</th>\n",
       "      <th>rmse</th>\n",
       "      <th>mae</th>\n",
       "      <th>mape</th>\n",
       "      <th>mdape</th>\n",
       "      <th>coverage</th>\n",
       "    </tr>\n",
       "  </thead>\n",
       "  <tbody>\n",
       "    <tr>\n",
       "      <th>0</th>\n",
       "      <td>40 days</td>\n",
       "      <td>1964.365505</td>\n",
       "      <td>44.321163</td>\n",
       "      <td>32.878427</td>\n",
       "      <td>0.118416</td>\n",
       "      <td>0.088570</td>\n",
       "      <td>0.181818</td>\n",
       "    </tr>\n",
       "    <tr>\n",
       "      <th>1</th>\n",
       "      <td>42 days</td>\n",
       "      <td>2472.803375</td>\n",
       "      <td>49.727290</td>\n",
       "      <td>37.321363</td>\n",
       "      <td>0.144618</td>\n",
       "      <td>0.093214</td>\n",
       "      <td>0.136364</td>\n",
       "    </tr>\n",
       "    <tr>\n",
       "      <th>2</th>\n",
       "      <td>46 days</td>\n",
       "      <td>2547.242483</td>\n",
       "      <td>50.470214</td>\n",
       "      <td>39.103368</td>\n",
       "      <td>0.159599</td>\n",
       "      <td>0.094266</td>\n",
       "      <td>0.090909</td>\n",
       "    </tr>\n",
       "    <tr>\n",
       "      <th>3</th>\n",
       "      <td>47 days</td>\n",
       "      <td>1956.644577</td>\n",
       "      <td>44.233975</td>\n",
       "      <td>35.864557</td>\n",
       "      <td>0.126581</td>\n",
       "      <td>0.094266</td>\n",
       "      <td>0.090909</td>\n",
       "    </tr>\n",
       "    <tr>\n",
       "      <th>4</th>\n",
       "      <td>48 days</td>\n",
       "      <td>1947.129157</td>\n",
       "      <td>44.126286</td>\n",
       "      <td>35.438609</td>\n",
       "      <td>0.125261</td>\n",
       "      <td>0.094266</td>\n",
       "      <td>0.090909</td>\n",
       "    </tr>\n",
       "  </tbody>\n",
       "</table>\n",
       "</div>"
      ],
      "text/plain": [
       "  horizon          mse       rmse        mae      mape     mdape  coverage\n",
       "0 40 days  1964.365505  44.321163  32.878427  0.118416  0.088570  0.181818\n",
       "1 42 days  2472.803375  49.727290  37.321363  0.144618  0.093214  0.136364\n",
       "2 46 days  2547.242483  50.470214  39.103368  0.159599  0.094266  0.090909\n",
       "3 47 days  1956.644577  44.233975  35.864557  0.126581  0.094266  0.090909\n",
       "4 48 days  1947.129157  44.126286  35.438609  0.125261  0.094266  0.090909"
      ]
     },
     "execution_count": 48,
     "metadata": {
      "tags": []
     },
     "output_type": "execute_result"
    }
   ],
   "source": [
    "from fbprophet.diagnostics import performance_metrics\n",
    "df_p = performance_metrics(df_cv)\n",
    "df_p.head()"
   ]
  },
  {
   "cell_type": "code",
   "execution_count": 62,
   "metadata": {
    "colab": {
     "base_uri": "https://localhost:8080/",
     "height": 669
    },
    "id": "EOeeyQfpqb5g",
    "outputId": "65510ff4-e6a0-404b-dff4-14b0c89a9539"
   },
   "outputs": [
    {
     "data": {
      "text/html": [
       "<div>\n",
       "<style scoped>\n",
       "    .dataframe tbody tr th:only-of-type {\n",
       "        vertical-align: middle;\n",
       "    }\n",
       "\n",
       "    .dataframe tbody tr th {\n",
       "        vertical-align: top;\n",
       "    }\n",
       "\n",
       "    .dataframe thead th {\n",
       "        text-align: right;\n",
       "    }\n",
       "</style>\n",
       "<table border=\"1\" class=\"dataframe\">\n",
       "  <thead>\n",
       "    <tr style=\"text-align: right;\">\n",
       "      <th></th>\n",
       "      <th>horizon</th>\n",
       "      <th>mse</th>\n",
       "      <th>rmse</th>\n",
       "      <th>mae</th>\n",
       "      <th>mape</th>\n",
       "      <th>mdape</th>\n",
       "      <th>coverage</th>\n",
       "    </tr>\n",
       "  </thead>\n",
       "  <tbody>\n",
       "    <tr>\n",
       "      <th>0</th>\n",
       "      <td>40 days</td>\n",
       "      <td>1964.365505</td>\n",
       "      <td>44.321163</td>\n",
       "      <td>32.878427</td>\n",
       "      <td>0.118416</td>\n",
       "      <td>0.088570</td>\n",
       "      <td>0.181818</td>\n",
       "    </tr>\n",
       "    <tr>\n",
       "      <th>1</th>\n",
       "      <td>42 days</td>\n",
       "      <td>2472.803375</td>\n",
       "      <td>49.727290</td>\n",
       "      <td>37.321363</td>\n",
       "      <td>0.144618</td>\n",
       "      <td>0.093214</td>\n",
       "      <td>0.136364</td>\n",
       "    </tr>\n",
       "    <tr>\n",
       "      <th>2</th>\n",
       "      <td>46 days</td>\n",
       "      <td>2547.242483</td>\n",
       "      <td>50.470214</td>\n",
       "      <td>39.103368</td>\n",
       "      <td>0.159599</td>\n",
       "      <td>0.094266</td>\n",
       "      <td>0.090909</td>\n",
       "    </tr>\n",
       "    <tr>\n",
       "      <th>3</th>\n",
       "      <td>47 days</td>\n",
       "      <td>1956.644577</td>\n",
       "      <td>44.233975</td>\n",
       "      <td>35.864557</td>\n",
       "      <td>0.126581</td>\n",
       "      <td>0.094266</td>\n",
       "      <td>0.090909</td>\n",
       "    </tr>\n",
       "    <tr>\n",
       "      <th>4</th>\n",
       "      <td>48 days</td>\n",
       "      <td>1947.129157</td>\n",
       "      <td>44.126286</td>\n",
       "      <td>35.438609</td>\n",
       "      <td>0.125261</td>\n",
       "      <td>0.094266</td>\n",
       "      <td>0.090909</td>\n",
       "    </tr>\n",
       "    <tr>\n",
       "      <th>5</th>\n",
       "      <td>51 days</td>\n",
       "      <td>2077.726927</td>\n",
       "      <td>45.582090</td>\n",
       "      <td>37.280822</td>\n",
       "      <td>0.130524</td>\n",
       "      <td>0.095993</td>\n",
       "      <td>0.090909</td>\n",
       "    </tr>\n",
       "    <tr>\n",
       "      <th>6</th>\n",
       "      <td>52 days</td>\n",
       "      <td>2071.382429</td>\n",
       "      <td>45.512443</td>\n",
       "      <td>37.253354</td>\n",
       "      <td>0.129897</td>\n",
       "      <td>0.095993</td>\n",
       "      <td>0.090909</td>\n",
       "    </tr>\n",
       "    <tr>\n",
       "      <th>7</th>\n",
       "      <td>53 days</td>\n",
       "      <td>2026.786768</td>\n",
       "      <td>45.019849</td>\n",
       "      <td>36.237603</td>\n",
       "      <td>0.127544</td>\n",
       "      <td>0.094266</td>\n",
       "      <td>0.090909</td>\n",
       "    </tr>\n",
       "    <tr>\n",
       "      <th>8</th>\n",
       "      <td>56 days</td>\n",
       "      <td>2079.458652</td>\n",
       "      <td>45.601082</td>\n",
       "      <td>36.964964</td>\n",
       "      <td>0.130045</td>\n",
       "      <td>0.102672</td>\n",
       "      <td>0.090909</td>\n",
       "    </tr>\n",
       "    <tr>\n",
       "      <th>9</th>\n",
       "      <td>57 days</td>\n",
       "      <td>2288.725409</td>\n",
       "      <td>47.840625</td>\n",
       "      <td>38.498589</td>\n",
       "      <td>0.130721</td>\n",
       "      <td>0.114386</td>\n",
       "      <td>0.090909</td>\n",
       "    </tr>\n",
       "    <tr>\n",
       "      <th>10</th>\n",
       "      <td>58 days</td>\n",
       "      <td>2261.367536</td>\n",
       "      <td>47.553838</td>\n",
       "      <td>37.845147</td>\n",
       "      <td>0.128728</td>\n",
       "      <td>0.114386</td>\n",
       "      <td>0.090909</td>\n",
       "    </tr>\n",
       "    <tr>\n",
       "      <th>11</th>\n",
       "      <td>61 days</td>\n",
       "      <td>2186.526741</td>\n",
       "      <td>46.760312</td>\n",
       "      <td>37.342270</td>\n",
       "      <td>0.128394</td>\n",
       "      <td>0.094658</td>\n",
       "      <td>0.136364</td>\n",
       "    </tr>\n",
       "    <tr>\n",
       "      <th>12</th>\n",
       "      <td>62 days</td>\n",
       "      <td>2079.101212</td>\n",
       "      <td>45.597162</td>\n",
       "      <td>35.646438</td>\n",
       "      <td>0.125041</td>\n",
       "      <td>0.094658</td>\n",
       "      <td>0.181818</td>\n",
       "    </tr>\n",
       "    <tr>\n",
       "      <th>13</th>\n",
       "      <td>63 days</td>\n",
       "      <td>2046.263709</td>\n",
       "      <td>45.235646</td>\n",
       "      <td>34.674458</td>\n",
       "      <td>0.120414</td>\n",
       "      <td>0.094658</td>\n",
       "      <td>0.204545</td>\n",
       "    </tr>\n",
       "    <tr>\n",
       "      <th>14</th>\n",
       "      <td>67 days</td>\n",
       "      <td>2048.036396</td>\n",
       "      <td>45.255236</td>\n",
       "      <td>34.859703</td>\n",
       "      <td>0.119440</td>\n",
       "      <td>0.083337</td>\n",
       "      <td>0.181818</td>\n",
       "    </tr>\n",
       "    <tr>\n",
       "      <th>15</th>\n",
       "      <td>69 days</td>\n",
       "      <td>2024.412336</td>\n",
       "      <td>44.993470</td>\n",
       "      <td>33.883339</td>\n",
       "      <td>0.116092</td>\n",
       "      <td>0.078610</td>\n",
       "      <td>0.227273</td>\n",
       "    </tr>\n",
       "    <tr>\n",
       "      <th>16</th>\n",
       "      <td>73 days</td>\n",
       "      <td>2018.707110</td>\n",
       "      <td>44.930025</td>\n",
       "      <td>34.118970</td>\n",
       "      <td>0.123747</td>\n",
       "      <td>0.078610</td>\n",
       "      <td>0.227273</td>\n",
       "    </tr>\n",
       "    <tr>\n",
       "      <th>17</th>\n",
       "      <td>74 days</td>\n",
       "      <td>2021.020423</td>\n",
       "      <td>44.955761</td>\n",
       "      <td>34.227834</td>\n",
       "      <td>0.123709</td>\n",
       "      <td>0.078610</td>\n",
       "      <td>0.227273</td>\n",
       "    </tr>\n",
       "    <tr>\n",
       "      <th>18</th>\n",
       "      <td>76 days</td>\n",
       "      <td>1693.260672</td>\n",
       "      <td>41.149249</td>\n",
       "      <td>31.090951</td>\n",
       "      <td>0.109556</td>\n",
       "      <td>0.063882</td>\n",
       "      <td>0.227273</td>\n",
       "    </tr>\n",
       "    <tr>\n",
       "      <th>19</th>\n",
       "      <td>78 days</td>\n",
       "      <td>1377.257994</td>\n",
       "      <td>37.111427</td>\n",
       "      <td>28.369022</td>\n",
       "      <td>0.094817</td>\n",
       "      <td>0.056580</td>\n",
       "      <td>0.227273</td>\n",
       "    </tr>\n",
       "  </tbody>\n",
       "</table>\n",
       "</div>"
      ],
      "text/plain": [
       "   horizon          mse       rmse        mae      mape     mdape  coverage\n",
       "0  40 days  1964.365505  44.321163  32.878427  0.118416  0.088570  0.181818\n",
       "1  42 days  2472.803375  49.727290  37.321363  0.144618  0.093214  0.136364\n",
       "2  46 days  2547.242483  50.470214  39.103368  0.159599  0.094266  0.090909\n",
       "3  47 days  1956.644577  44.233975  35.864557  0.126581  0.094266  0.090909\n",
       "4  48 days  1947.129157  44.126286  35.438609  0.125261  0.094266  0.090909\n",
       "5  51 days  2077.726927  45.582090  37.280822  0.130524  0.095993  0.090909\n",
       "6  52 days  2071.382429  45.512443  37.253354  0.129897  0.095993  0.090909\n",
       "7  53 days  2026.786768  45.019849  36.237603  0.127544  0.094266  0.090909\n",
       "8  56 days  2079.458652  45.601082  36.964964  0.130045  0.102672  0.090909\n",
       "9  57 days  2288.725409  47.840625  38.498589  0.130721  0.114386  0.090909\n",
       "10 58 days  2261.367536  47.553838  37.845147  0.128728  0.114386  0.090909\n",
       "11 61 days  2186.526741  46.760312  37.342270  0.128394  0.094658  0.136364\n",
       "12 62 days  2079.101212  45.597162  35.646438  0.125041  0.094658  0.181818\n",
       "13 63 days  2046.263709  45.235646  34.674458  0.120414  0.094658  0.204545\n",
       "14 67 days  2048.036396  45.255236  34.859703  0.119440  0.083337  0.181818\n",
       "15 69 days  2024.412336  44.993470  33.883339  0.116092  0.078610  0.227273\n",
       "16 73 days  2018.707110  44.930025  34.118970  0.123747  0.078610  0.227273\n",
       "17 74 days  2021.020423  44.955761  34.227834  0.123709  0.078610  0.227273\n",
       "18 76 days  1693.260672  41.149249  31.090951  0.109556  0.063882  0.227273\n",
       "19 78 days  1377.257994  37.111427  28.369022  0.094817  0.056580  0.227273"
      ]
     },
     "execution_count": 62,
     "metadata": {
      "tags": []
     },
     "output_type": "execute_result"
    }
   ],
   "source": [
    "df_p.head(20)"
   ]
  },
  {
   "cell_type": "code",
   "execution_count": 63,
   "metadata": {
    "colab": {
     "base_uri": "https://localhost:8080/",
     "height": 388
    },
    "id": "jduA-rBLqpZ4",
    "outputId": "90521a9f-8d29-4423-f337-837ce9d95f76"
   },
   "outputs": [
    {
     "data": {
      "image/png": "[encoded data removed]",
      "text/plain": [
       "<Figure size 720x432 with 1 Axes>"
      ]
     },
     "metadata": {
      "tags": []
     },
     "output_type": "display_data"
    }
   ],
   "source": [
    "from fbprophet.plot import plot_cross_validation_metric\n",
    "fig = plot_cross_validation_metric(df_cv, metric='rmse')"
   ]
  },
  {
   "cell_type": "markdown",
   "metadata": {},
   "source": [
    "### Conclusion And Comparision With Other Models\n",
    "\n",
    "In the Time Series Data the Major thing we need to handel is the Stationerity of data and the seasonal and cyclic component of time series data, with respect to a date format column or datatype as date column, in this open source model we just need to visualize the data and provide the parameters as per the visualization of the data.\n",
    "\n",
    "Wheraeas, In other models like AR,MA,ARMA AND ARIMA we need to first find out if the data is stationery or not by some methods, if it is not stationery we need to convert it into stationery data by some methods after that for the parameters of p,d,q for implementing the models we need to use decomposition and ACF and PACF methods for finding approporiate value of them, then implement the model and predict for the best accuracy and best prediction by comparing the value from Mean Squared Error or any other scoring methods.\n",
    "\n",
    "But in the FBProphect, we just need to provide the data in the format of date as 'ds' and output variable as y column and make predictions for further dates which are append on the data itself, then by cross validation check for the best predictions and best accuracy and can be helpful to predict easily for more number of dates.\n",
    "\n",
    "The Equation of basic models are similar to that of Linear Regression as-:\n",
    "\n",
    "Yt = β₁* yₜ-₁ + α₁* Ɛₜ-₁ + β₂* yₜ-₂ + α₂ * Ɛₜ-₂ + β₃ * yₜ-₃ + α₃ * Ɛₜ-₃ +………… + βₖ * yₜ-ₖ + αₖ * Ɛₜ-ₖ\n",
    "\n",
    "where beta(β) is the coeff. of AR Model and alpha(α) is the coeff. of MA Model in each time lag, it tries to predict with help of adding the resdiuals and values in previous lags.\n",
    "\n",
    "Whereas, the equation FBprophect is-:\n",
    "\n",
    "y(t) = g(t) + s(t) + h(t) + e(t)\n",
    "\n",
    "g(t)-: It is a trend function which helps in finding and handling trend functions that are non periodic changes in data.\n",
    "\n",
    "s(t)-: It represents periodic changes weekly, monthly, yearly. An yearly seasonal component is modeled using Fourier series and weekly seasonal component using dummy variables.\n",
    "\n",
    "h(t)-: It is a function that represents the effect of holidays which occur on irregular schedules.(n≥1 days)\n",
    "\n",
    "e(t)-: represents error changes that are not accommodated by the model."
   ]
  },
  {
   "cell_type": "code",
   "execution_count": 3,
   "metadata": {},
   "outputs": [],
   "source": [
    "df=pd.read_excel(r\"C:\\Users\\dell\\Downloads\\CGK analysis Origin & Destination.xlsx\")"
   ]
  },
  {
   "cell_type": "code",
   "execution_count": 4,
   "metadata": {},
   "outputs": [
    {
     "data": {
      "text/html": [
       "<div>\n",
       "<style scoped>\n",
       "    .dataframe tbody tr th:only-of-type {\n",
       "        vertical-align: middle;\n",
       "    }\n",
       "\n",
       "    .dataframe tbody tr th {\n",
       "        vertical-align: top;\n",
       "    }\n",
       "\n",
       "    .dataframe thead th {\n",
       "        text-align: right;\n",
       "    }\n",
       "</style>\n",
       "<table border=\"1\" class=\"dataframe\">\n",
       "  <thead>\n",
       "    <tr style=\"text-align: right;\">\n",
       "      <th></th>\n",
       "      <th>AWBSNo</th>\n",
       "      <th>Unnamed: 1</th>\n",
       "      <th>AWBNo</th>\n",
       "      <th>AccountTypeName</th>\n",
       "      <th>Origin</th>\n",
       "      <th>Destination</th>\n",
       "      <th>ProductName</th>\n",
       "      <th>CommodityCode</th>\n",
       "      <th>NatureOfGoods</th>\n",
       "      <th>SHC_EXE</th>\n",
       "      <th>...</th>\n",
       "      <th>FlightType</th>\n",
       "      <th>Sector</th>\n",
       "      <th>Pieces</th>\n",
       "      <th>GrossWeight</th>\n",
       "      <th>Volume.1</th>\n",
       "      <th>VolumeWeight</th>\n",
       "      <th>ChargeableWeight</th>\n",
       "      <th>FlightNo</th>\n",
       "      <th>FlightDate</th>\n",
       "      <th>ETD</th>\n",
       "    </tr>\n",
       "  </thead>\n",
       "  <tbody>\n",
       "    <tr>\n",
       "      <th>0</th>\n",
       "      <td>1</td>\n",
       "      <td>NaN</td>\n",
       "      <td>111-1212121</td>\n",
       "      <td>FORWARDER</td>\n",
       "      <td>ICN</td>\n",
       "      <td>CGK</td>\n",
       "      <td>GENERAL</td>\n",
       "      <td>0</td>\n",
       "      <td>CONSOLIDATION</td>\n",
       "      <td></td>\n",
       "      <td>...</td>\n",
       "      <td>Direct</td>\n",
       "      <td>ICN-CGK</td>\n",
       "      <td>2</td>\n",
       "      <td>31.0</td>\n",
       "      <td>0.054002</td>\n",
       "      <td>9.00</td>\n",
       "      <td>31.0</td>\n",
       "      <td>GA-0879</td>\n",
       "      <td>2020-02-02</td>\n",
       "      <td>10:35:00</td>\n",
       "    </tr>\n",
       "    <tr>\n",
       "      <th>1</th>\n",
       "      <td>2</td>\n",
       "      <td>NaN</td>\n",
       "      <td>111-1212122</td>\n",
       "      <td>FORWARDER</td>\n",
       "      <td>ICN</td>\n",
       "      <td>CGK</td>\n",
       "      <td>GENERAL</td>\n",
       "      <td>0</td>\n",
       "      <td>25KG OF ERDOSTEINE</td>\n",
       "      <td>EAP</td>\n",
       "      <td>...</td>\n",
       "      <td>Direct</td>\n",
       "      <td>ICN-CGK</td>\n",
       "      <td>1</td>\n",
       "      <td>28.0</td>\n",
       "      <td>0.084003</td>\n",
       "      <td>14.00</td>\n",
       "      <td>28.0</td>\n",
       "      <td>GA-0879</td>\n",
       "      <td>2020-02-02</td>\n",
       "      <td>10:35:00</td>\n",
       "    </tr>\n",
       "    <tr>\n",
       "      <th>2</th>\n",
       "      <td>3</td>\n",
       "      <td>NaN</td>\n",
       "      <td>111-1212123</td>\n",
       "      <td>FORWARDER</td>\n",
       "      <td>ICN</td>\n",
       "      <td>CGK</td>\n",
       "      <td>GENERAL</td>\n",
       "      <td>0</td>\n",
       "      <td>CONSOL</td>\n",
       "      <td></td>\n",
       "      <td>...</td>\n",
       "      <td>Direct</td>\n",
       "      <td>ICN-CGK</td>\n",
       "      <td>27</td>\n",
       "      <td>794.0</td>\n",
       "      <td>2.864995</td>\n",
       "      <td>477.48</td>\n",
       "      <td>794.0</td>\n",
       "      <td>GA-0879</td>\n",
       "      <td>2020-02-02</td>\n",
       "      <td>10:35:00</td>\n",
       "    </tr>\n",
       "    <tr>\n",
       "      <th>3</th>\n",
       "      <td>4</td>\n",
       "      <td>NaN</td>\n",
       "      <td>111-1212124</td>\n",
       "      <td>FORWARDER</td>\n",
       "      <td>ICN</td>\n",
       "      <td>CGK</td>\n",
       "      <td>GENERAL</td>\n",
       "      <td>0</td>\n",
       "      <td>CONSOLIDATION</td>\n",
       "      <td>HEA</td>\n",
       "      <td>...</td>\n",
       "      <td>Direct</td>\n",
       "      <td>ICN-DPS</td>\n",
       "      <td>1</td>\n",
       "      <td>220.0</td>\n",
       "      <td>0.117005</td>\n",
       "      <td>19.50</td>\n",
       "      <td>220.0</td>\n",
       "      <td>GA-0871</td>\n",
       "      <td>2020-02-02</td>\n",
       "      <td>11:35:00</td>\n",
       "    </tr>\n",
       "    <tr>\n",
       "      <th>4</th>\n",
       "      <td>5</td>\n",
       "      <td>NaN</td>\n",
       "      <td>111-1212125</td>\n",
       "      <td>FORWARDER</td>\n",
       "      <td>ICN</td>\n",
       "      <td>CGK</td>\n",
       "      <td>GENERAL</td>\n",
       "      <td>0</td>\n",
       "      <td>CONSOLIDATION</td>\n",
       "      <td>HEA</td>\n",
       "      <td>...</td>\n",
       "      <td>Direct</td>\n",
       "      <td>DPS-CGK</td>\n",
       "      <td>1</td>\n",
       "      <td>220.0</td>\n",
       "      <td>0.117005</td>\n",
       "      <td>19.50</td>\n",
       "      <td>220.0</td>\n",
       "      <td>GA-0425</td>\n",
       "      <td>2020-02-02</td>\n",
       "      <td>21:20:00</td>\n",
       "    </tr>\n",
       "  </tbody>\n",
       "</table>\n",
       "<p>5 rows × 29 columns</p>\n",
       "</div>"
      ],
      "text/plain": [
       "   AWBSNo  Unnamed: 1        AWBNo AccountTypeName Origin Destination  \\\n",
       "0       1         NaN  111-1212121       FORWARDER    ICN         CGK   \n",
       "1       2         NaN  111-1212122       FORWARDER    ICN         CGK   \n",
       "2       3         NaN  111-1212123       FORWARDER    ICN         CGK   \n",
       "3       4         NaN  111-1212124       FORWARDER    ICN         CGK   \n",
       "4       5         NaN  111-1212125       FORWARDER    ICN         CGK   \n",
       "\n",
       "  ProductName  CommodityCode       NatureOfGoods SHC_EXE  ... FlightType  \\\n",
       "0     GENERAL              0       CONSOLIDATION          ...     Direct   \n",
       "1     GENERAL              0  25KG OF ERDOSTEINE     EAP  ...     Direct   \n",
       "2     GENERAL              0              CONSOL          ...     Direct   \n",
       "3     GENERAL              0       CONSOLIDATION     HEA  ...     Direct   \n",
       "4     GENERAL              0       CONSOLIDATION     HEA  ...     Direct   \n",
       "\n",
       "    Sector  Pieces  GrossWeight  Volume.1  VolumeWeight ChargeableWeight  \\\n",
       "0  ICN-CGK       2         31.0  0.054002          9.00             31.0   \n",
       "1  ICN-CGK       1         28.0  0.084003         14.00             28.0   \n",
       "2  ICN-CGK      27        794.0  2.864995        477.48            794.0   \n",
       "3  ICN-DPS       1        220.0  0.117005         19.50            220.0   \n",
       "4  DPS-CGK       1        220.0  0.117005         19.50            220.0   \n",
       "\n",
       "  FlightNo FlightDate       ETD  \n",
       "0  GA-0879 2020-02-02  10:35:00  \n",
       "1  GA-0879 2020-02-02  10:35:00  \n",
       "2  GA-0879 2020-02-02  10:35:00  \n",
       "3  GA-0871 2020-02-02  11:35:00  \n",
       "4  GA-0425 2020-02-02  21:20:00  \n",
       "\n",
       "[5 rows x 29 columns]"
      ]
     },
     "execution_count": 4,
     "metadata": {},
     "output_type": "execute_result"
    }
   ],
   "source": [
    "df.head()"
   ]
  },
  {
   "cell_type": "code",
   "execution_count": 6,
   "metadata": {},
   "outputs": [
    {
     "data": {
      "text/html": [
       "<div>\n",
       "<style scoped>\n",
       "    .dataframe tbody tr th:only-of-type {\n",
       "        vertical-align: middle;\n",
       "    }\n",
       "\n",
       "    .dataframe tbody tr th {\n",
       "        vertical-align: top;\n",
       "    }\n",
       "\n",
       "    .dataframe thead th {\n",
       "        text-align: right;\n",
       "    }\n",
       "</style>\n",
       "<table border=\"1\" class=\"dataframe\">\n",
       "  <thead>\n",
       "    <tr style=\"text-align: right;\">\n",
       "      <th></th>\n",
       "      <th>AWBSNo</th>\n",
       "      <th>Unnamed: 1</th>\n",
       "      <th>CommodityCode</th>\n",
       "      <th>AWBPieces</th>\n",
       "      <th>GrossWeightBKD</th>\n",
       "      <th>Volume</th>\n",
       "      <th>VolumeWeightBKD</th>\n",
       "      <th>ChargeableWeightBKD</th>\n",
       "      <th>Pieces</th>\n",
       "      <th>GrossWeight</th>\n",
       "      <th>Volume.1</th>\n",
       "      <th>VolumeWeight</th>\n",
       "      <th>ChargeableWeight</th>\n",
       "    </tr>\n",
       "    <tr>\n",
       "      <th>ExecutionDate</th>\n",
       "      <th></th>\n",
       "      <th></th>\n",
       "      <th></th>\n",
       "      <th></th>\n",
       "      <th></th>\n",
       "      <th></th>\n",
       "      <th></th>\n",
       "      <th></th>\n",
       "      <th></th>\n",
       "      <th></th>\n",
       "      <th></th>\n",
       "      <th></th>\n",
       "      <th></th>\n",
       "    </tr>\n",
       "  </thead>\n",
       "  <tbody>\n",
       "    <tr>\n",
       "      <th>2020-01-31</th>\n",
       "      <td>15</td>\n",
       "      <td>0.0</td>\n",
       "      <td>0</td>\n",
       "      <td>32</td>\n",
       "      <td>1293.0</td>\n",
       "      <td>3.237</td>\n",
       "      <td>539.5</td>\n",
       "      <td>1324.0</td>\n",
       "      <td>32</td>\n",
       "      <td>1293.00</td>\n",
       "      <td>3.237009</td>\n",
       "      <td>539.48</td>\n",
       "      <td>1293.00</td>\n",
       "    </tr>\n",
       "    <tr>\n",
       "      <th>2020-02-01</th>\n",
       "      <td>123789</td>\n",
       "      <td>0.0</td>\n",
       "      <td>3797392</td>\n",
       "      <td>2429</td>\n",
       "      <td>30054.6</td>\n",
       "      <td>107.225</td>\n",
       "      <td>17957.5</td>\n",
       "      <td>31526.5</td>\n",
       "      <td>2540</td>\n",
       "      <td>32685.75</td>\n",
       "      <td>130.302052</td>\n",
       "      <td>21716.14</td>\n",
       "      <td>34659.82</td>\n",
       "    </tr>\n",
       "    <tr>\n",
       "      <th>2020-02-02</th>\n",
       "      <td>6</td>\n",
       "      <td>0.0</td>\n",
       "      <td>0</td>\n",
       "      <td>9</td>\n",
       "      <td>35.0</td>\n",
       "      <td>0.144</td>\n",
       "      <td>24.0</td>\n",
       "      <td>45.0</td>\n",
       "      <td>9</td>\n",
       "      <td>35.00</td>\n",
       "      <td>0.144006</td>\n",
       "      <td>24.00</td>\n",
       "      <td>35.00</td>\n",
       "    </tr>\n",
       "    <tr>\n",
       "      <th>2020-02-03</th>\n",
       "      <td>213</td>\n",
       "      <td>0.0</td>\n",
       "      <td>4494</td>\n",
       "      <td>2</td>\n",
       "      <td>29.0</td>\n",
       "      <td>0.104</td>\n",
       "      <td>18.0</td>\n",
       "      <td>30.0</td>\n",
       "      <td>2</td>\n",
       "      <td>30.00</td>\n",
       "      <td>0.108004</td>\n",
       "      <td>18.00</td>\n",
       "      <td>30.00</td>\n",
       "    </tr>\n",
       "    <tr>\n",
       "      <th>2020-02-10</th>\n",
       "      <td>333</td>\n",
       "      <td>0.0</td>\n",
       "      <td>10003</td>\n",
       "      <td>5</td>\n",
       "      <td>50.0</td>\n",
       "      <td>0.300</td>\n",
       "      <td>50.0</td>\n",
       "      <td>10.0</td>\n",
       "      <td>1</td>\n",
       "      <td>10.00</td>\n",
       "      <td>0.060002</td>\n",
       "      <td>10.00</td>\n",
       "      <td>10.00</td>\n",
       "    </tr>\n",
       "    <tr>\n",
       "      <th>2020-02-26</th>\n",
       "      <td>394</td>\n",
       "      <td>0.0</td>\n",
       "      <td>10003</td>\n",
       "      <td>15</td>\n",
       "      <td>150.0</td>\n",
       "      <td>0.228</td>\n",
       "      <td>38.5</td>\n",
       "      <td>97.0</td>\n",
       "      <td>14</td>\n",
       "      <td>97.00</td>\n",
       "      <td>0.573023</td>\n",
       "      <td>95.50</td>\n",
       "      <td>97.00</td>\n",
       "    </tr>\n",
       "  </tbody>\n",
       "</table>\n",
       "</div>"
      ],
      "text/plain": [
       "               AWBSNo  Unnamed: 1  CommodityCode  AWBPieces  GrossWeightBKD  \\\n",
       "ExecutionDate                                                                 \n",
       "2020-01-31         15         0.0              0         32          1293.0   \n",
       "2020-02-01     123789         0.0        3797392       2429         30054.6   \n",
       "2020-02-02          6         0.0              0          9            35.0   \n",
       "2020-02-03        213         0.0           4494          2            29.0   \n",
       "2020-02-10        333         0.0          10003          5            50.0   \n",
       "2020-02-26        394         0.0          10003         15           150.0   \n",
       "\n",
       "                Volume  VolumeWeightBKD  ChargeableWeightBKD  Pieces  \\\n",
       "ExecutionDate                                                          \n",
       "2020-01-31       3.237            539.5               1324.0      32   \n",
       "2020-02-01     107.225          17957.5              31526.5    2540   \n",
       "2020-02-02       0.144             24.0                 45.0       9   \n",
       "2020-02-03       0.104             18.0                 30.0       2   \n",
       "2020-02-10       0.300             50.0                 10.0       1   \n",
       "2020-02-26       0.228             38.5                 97.0      14   \n",
       "\n",
       "               GrossWeight    Volume.1  VolumeWeight  ChargeableWeight  \n",
       "ExecutionDate                                                           \n",
       "2020-01-31         1293.00    3.237009        539.48           1293.00  \n",
       "2020-02-01        32685.75  130.302052      21716.14          34659.82  \n",
       "2020-02-02           35.00    0.144006         24.00             35.00  \n",
       "2020-02-03           30.00    0.108004         18.00             30.00  \n",
       "2020-02-10           10.00    0.060002         10.00             10.00  \n",
       "2020-02-26           97.00    0.573023         95.50             97.00  "
      ]
     },
     "execution_count": 6,
     "metadata": {},
     "output_type": "execute_result"
    }
   ],
   "source": [
    "df.groupby('ExecutionDate').sum()"
   ]
  }
 ],
 "metadata": {
  "colab": {
   "name": "FBProphect_Model_KunalGoel23rdJuly2021.ipynb",
   "provenance": []
  },
  "kernelspec": {
   "display_name": "Python 3",
   "language": "python",
   "name": "python3"
  },
  "language_info": {
   "codemirror_mode": {
    "name": "ipython",
    "version": 3
   },
   "file_extension": ".py",
   "mimetype": "text/x-python",
   "name": "python",
   "nbconvert_exporter": "python",
   "pygments_lexer": "ipython3",
   "version": "3.8.3"
  },
  "widgets": {
   "application/vnd.jupyter.widget-state+json": {
    "22eb85aa98d64c3babb2146fffd2a004": {
     "model_module": "@jupyter-widgets/controls",
     "model_name": "HBoxModel",
     "state": {
      "_dom_classes": [],
      "_model_module": "@jupyter-widgets/controls",
      "_model_module_version": "1.5.0",
      "_model_name": "HBoxModel",
      "_view_count": null,
      "_view_module": "@jupyter-widgets/controls",
      "_view_module_version": "1.5.0",
      "_view_name": "HBoxView",
      "box_style": "",
      "children": [
       "IPY_MODEL_a007f1949d3f4588b6304dcccfd27567",
       "IPY_MODEL_ad3defcd64594a398fa02ce547e8c4e7"
      ],
      "layout": "IPY_MODEL_48407597770e459aa89dc7cac5743379"
     }
    },
    "48407597770e459aa89dc7cac5743379": {
     "model_module": "@jupyter-widgets/base",
     "model_name": "LayoutModel",
     "state": {
      "_model_module": "@jupyter-widgets/base",
      "_model_module_version": "1.2.0",
      "_model_name": "LayoutModel",
      "_view_count": null,
      "_view_module": "@jupyter-widgets/base",
      "_view_module_version": "1.2.0",
      "_view_name": "LayoutView",
      "align_content": null,
      "align_items": null,
      "align_self": null,
      "border": null,
      "bottom": null,
      "display": null,
      "flex": null,
      "flex_flow": null,
      "grid_area": null,
      "grid_auto_columns": null,
      "grid_auto_flow": null,
      "grid_auto_rows": null,
      "grid_column": null,
      "grid_gap": null,
      "grid_row": null,
      "grid_template_areas": null,
      "grid_template_columns": null,
      "grid_template_rows": null,
      "height": null,
      "justify_content": null,
      "justify_items": null,
      "left": null,
      "margin": null,
      "max_height": null,
      "max_width": null,
      "min_height": null,
      "min_width": null,
      "object_fit": null,
      "object_position": null,
      "order": null,
      "overflow": null,
      "overflow_x": null,
      "overflow_y": null,
      "padding": null,
      "right": null,
      "top": null,
      "visibility": null,
      "width": null
     }
    },
    "5621e9412b9446069be9f282b47438db": {
     "model_module": "@jupyter-widgets/controls",
     "model_name": "DescriptionStyleModel",
     "state": {
      "_model_module": "@jupyter-widgets/controls",
      "_model_module_version": "1.5.0",
      "_model_name": "DescriptionStyleModel",
      "_view_count": null,
      "_view_module": "@jupyter-widgets/base",
      "_view_module_version": "1.2.0",
      "_view_name": "StyleView",
      "description_width": ""
     }
    },
    "7448c0e1aa6743b68f89f9434d960387": {
     "model_module": "@jupyter-widgets/base",
     "model_name": "LayoutModel",
     "state": {
      "_model_module": "@jupyter-widgets/base",
      "_model_module_version": "1.2.0",
      "_model_name": "LayoutModel",
      "_view_count": null,
      "_view_module": "@jupyter-widgets/base",
      "_view_module_version": "1.2.0",
      "_view_name": "LayoutView",
      "align_content": null,
      "align_items": null,
      "align_self": null,
      "border": null,
      "bottom": null,
      "display": null,
      "flex": null,
      "flex_flow": null,
      "grid_area": null,
      "grid_auto_columns": null,
      "grid_auto_flow": null,
      "grid_auto_rows": null,
      "grid_column": null,
      "grid_gap": null,
      "grid_row": null,
      "grid_template_areas": null,
      "grid_template_columns": null,
      "grid_template_rows": null,
      "height": null,
      "justify_content": null,
      "justify_items": null,
      "left": null,
      "margin": null,
      "max_height": null,
      "max_width": null,
      "min_height": null,
      "min_width": null,
      "object_fit": null,
      "object_position": null,
      "order": null,
      "overflow": null,
      "overflow_x": null,
      "overflow_y": null,
      "padding": null,
      "right": null,
      "top": null,
      "visibility": null,
      "width": null
     }
    },
    "9304b12373134d82af0bb914a657e815": {
     "model_module": "@jupyter-widgets/controls",
     "model_name": "ProgressStyleModel",
     "state": {
      "_model_module": "@jupyter-widgets/controls",
      "_model_module_version": "1.5.0",
      "_model_name": "ProgressStyleModel",
      "_view_count": null,
      "_view_module": "@jupyter-widgets/base",
      "_view_module_version": "1.2.0",
      "_view_name": "StyleView",
      "bar_color": null,
      "description_width": "initial"
     }
    },
    "a007f1949d3f4588b6304dcccfd27567": {
     "model_module": "@jupyter-widgets/controls",
     "model_name": "FloatProgressModel",
     "state": {
      "_dom_classes": [],
      "_model_module": "@jupyter-widgets/controls",
      "_model_module_version": "1.5.0",
      "_model_name": "FloatProgressModel",
      "_view_count": null,
      "_view_module": "@jupyter-widgets/controls",
      "_view_module_version": "1.5.0",
      "_view_name": "ProgressView",
      "bar_style": "success",
      "description": "100%",
      "description_tooltip": null,
      "layout": "IPY_MODEL_7448c0e1aa6743b68f89f9434d960387",
      "max": 19,
      "min": 0,
      "orientation": "horizontal",
      "style": "IPY_MODEL_9304b12373134d82af0bb914a657e815",
      "value": 19
     }
    },
    "ad3defcd64594a398fa02ce547e8c4e7": {
     "model_module": "@jupyter-widgets/controls",
     "model_name": "HTMLModel",
     "state": {
      "_dom_classes": [],
      "_model_module": "@jupyter-widgets/controls",
      "_model_module_version": "1.5.0",
      "_model_name": "HTMLModel",
      "_view_count": null,
      "_view_module": "@jupyter-widgets/controls",
      "_view_module_version": "1.5.0",
      "_view_name": "HTMLView",
      "description": "",
      "description_tooltip": null,
      "layout": "IPY_MODEL_d5b0e8f249cc4247b044a7fba8d823ca",
      "placeholder": "​",
      "style": "IPY_MODEL_5621e9412b9446069be9f282b47438db",
      "value": " 19/19 [01:27&lt;00:00,  4.58s/it]"
     }
    },
    "d5b0e8f249cc4247b044a7fba8d823ca": {
     "model_module": "@jupyter-widgets/base",
     "model_name": "LayoutModel",
     "state": {
      "_model_module": "@jupyter-widgets/base",
      "_model_module_version": "1.2.0",
      "_model_name": "LayoutModel",
      "_view_count": null,
      "_view_module": "@jupyter-widgets/base",
      "_view_module_version": "1.2.0",
      "_view_name": "LayoutView",
      "align_content": null,
      "align_items": null,
      "align_self": null,
      "border": null,
      "bottom": null,
      "display": null,
      "flex": null,
      "flex_flow": null,
      "grid_area": null,
      "grid_auto_columns": null,
      "grid_auto_flow": null,
      "grid_auto_rows": null,
      "grid_column": null,
      "grid_gap": null,
      "grid_row": null,
      "grid_template_areas": null,
      "grid_template_columns": null,
      "grid_template_rows": null,
      "height": null,
      "justify_content": null,
      "justify_items": null,
      "left": null,
      "margin": null,
      "max_height": null,
      "max_width": null,
      "min_height": null,
      "min_width": null,
      "object_fit": null,
      "object_position": null,
      "order": null,
      "overflow": null,
      "overflow_x": null,
      "overflow_y": null,
      "padding": null,
      "right": null,
      "top": null,
      "visibility": null,
      "width": null
     }
    }
   }
  }
 },
 "nbformat": 4,
 "nbformat_minor": 1
}
